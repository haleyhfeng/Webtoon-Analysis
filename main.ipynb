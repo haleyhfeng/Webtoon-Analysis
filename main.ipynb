{
 "cells": [
  {
   "cell_type": "code",
   "execution_count": 1,
   "metadata": {},
   "outputs": [],
   "source": [
    "import requests\n",
    "from urllib.request import urlopen\n",
    "from bs4 import BeautifulSoup\n",
    "import csv\n",
    "import numpy as np\n",
    "import pandas as pd"
   ]
  },
  {
   "cell_type": "markdown",
   "metadata": {},
   "source": [
    "## Web Scraping"
   ]
  },
  {
   "cell_type": "markdown",
   "metadata": {},
   "source": [
    "<img src=\"sample.jpg\" width=\"1000\">"
   ]
  },
  {
   "cell_type": "code",
   "execution_count": 2,
   "metadata": {},
   "outputs": [],
   "source": [
    "def get_rating(link):\n",
    "    page = urlopen(link)\n",
    "    soup = BeautifulSoup(page, 'html.parser')\n",
    "    score = soup.find(\"em\", class_='cnt')\n",
    "    return score.contents[0]"
   ]
  },
  {
   "cell_type": "code",
   "execution_count": 3,
   "metadata": {},
   "outputs": [],
   "source": [
    "def get_chapter(link):\n",
    "    page = urlopen(link)\n",
    "    soup = BeautifulSoup(page, 'html.parser')\n",
    "    chapter = soup.find(\"span\", class_='tx')\n",
    "    chapter = chapter.contents[0]\n",
    "    return int(chapter.replace(\"#\",''))"
   ]
  },
  {
   "cell_type": "code",
   "execution_count": 4,
   "metadata": {},
   "outputs": [],
   "source": [
    "def get_creator(link):\n",
    "    creators = []\n",
    "    page = urlopen(link)\n",
    "    soup = BeautifulSoup(page, 'html.parser')\n",
    "    info = soup.find_all(class_='author _btnAuthorInfo NPI=a:creator,g:en_en')\n",
    "    if len(info) == 0:\n",
    "        info = soup.find_all('span',class_='authors_name')\n",
    "    for i in info:\n",
    "        creators.append(i.contents[0])\n",
    "    return len(creators) # Since the names of the creator doesn't give us much information\n",
    "                         # we can count how many creators there are"
   ]
  },
  {
   "cell_type": "code",
   "execution_count": 7,
   "metadata": {
    "scrolled": true
   },
   "outputs": [],
   "source": [
    "# Last Update: September 5, 2019\n",
    "\n",
    "quote_page = 'https://www.webtoons.com/en/dailySchedule'\n",
    "\n",
    "# query the website and return the html to the variable ‘page’\n",
    "page = urlopen(quote_page)\n",
    "soup = BeautifulSoup(page, 'html.parser')\n",
    "\n",
    "# create csv\n",
    "webtoon_data = csv.writer(open('webtoons.csv', 'w'))\n",
    "webtoon_data.writerow(['Name', 'Creator','Heart', 'Score', 'Genre', 'Status', 'Episode'])\n",
    "\n",
    "everyday = np.array([\"MONDAY\",\"TUESDAY\",\"WEDNESDAY\",\"THURSDAY\",\"FRIDAY\",\"SATURDAY\",\"SUNDAY\",\"COMPLETED\"])\n",
    "for i in range(len(everyday)):\n",
    "    if everyday[i] == \"COMPLETED\":\n",
    "        update_find = \"daily_lst comp\"\n",
    "    else: \n",
    "        update_find = \"daily_section _list_\" + everyday[i]\n",
    "    d_day = soup.find(class_= update_find)\n",
    "    name = d_day.find_all('p', class_ = 'subj')\n",
    "    likes = d_day.find_all('em')\n",
    "    score = d_day.find_all()\n",
    "    genre = d_day.find_all('p', class_ = 'genre')\n",
    "    webtoon_link = []\n",
    "    for link in d_day.find_all('a'):\n",
    "        if link.get('href') == \"#\":\n",
    "            continue\n",
    "        else:\n",
    "            webtoon_link.append(link.get('href'))\n",
    "    for n,l,g,s in zip(name, likes, genre, range(len(webtoon_link))):\n",
    "        N = n.contents[0]\n",
    "        L = l.contents[0]\n",
    "        G = g.contents[0]\n",
    "        scores = get_rating(webtoon_link[s])\n",
    "        chapters = get_chapter(webtoon_link[s])\n",
    "        authors = get_creator(webtoon_link[s])\n",
    "        webtoon_data.writerow([N,authors,L,scores,G,everyday[i],chapters])  "
   ]
  },
  {
   "cell_type": "markdown",
   "metadata": {},
   "source": [
    "## Webtoon Dataset"
   ]
  },
  {
   "cell_type": "code",
   "execution_count": 8,
   "metadata": {},
   "outputs": [
    {
     "data": {
      "text/plain": [
       "362"
      ]
     },
     "execution_count": 8,
     "metadata": {},
     "output_type": "execute_result"
    }
   ],
   "source": [
    "df = pd.read_csv('webtoons.csv')\n",
    "len(df)"
   ]
  },
  {
   "cell_type": "code",
   "execution_count": 9,
   "metadata": {
    "scrolled": true
   },
   "outputs": [
    {
     "data": {
      "text/html": [
       "<div>\n",
       "<style scoped>\n",
       "    .dataframe tbody tr th:only-of-type {\n",
       "        vertical-align: middle;\n",
       "    }\n",
       "\n",
       "    .dataframe tbody tr th {\n",
       "        vertical-align: top;\n",
       "    }\n",
       "\n",
       "    .dataframe thead th {\n",
       "        text-align: right;\n",
       "    }\n",
       "</style>\n",
       "<table border=\"1\" class=\"dataframe\">\n",
       "  <thead>\n",
       "    <tr style=\"text-align: right;\">\n",
       "      <th></th>\n",
       "      <th>Name</th>\n",
       "      <th>Creator</th>\n",
       "      <th>Heart</th>\n",
       "      <th>Score</th>\n",
       "      <th>Genre</th>\n",
       "      <th>Status</th>\n",
       "      <th>Episode</th>\n",
       "    </tr>\n",
       "  </thead>\n",
       "  <tbody>\n",
       "    <tr>\n",
       "      <th>0</th>\n",
       "      <td>SubZero</td>\n",
       "      <td>1</td>\n",
       "      <td>3.1M</td>\n",
       "      <td>9.82</td>\n",
       "      <td>Romance</td>\n",
       "      <td>MONDAY</td>\n",
       "      <td>35</td>\n",
       "    </tr>\n",
       "    <tr>\n",
       "      <th>1</th>\n",
       "      <td>Cursed Princess Club</td>\n",
       "      <td>1</td>\n",
       "      <td>1.9M</td>\n",
       "      <td>9.76</td>\n",
       "      <td>Comedy</td>\n",
       "      <td>MONDAY</td>\n",
       "      <td>32</td>\n",
       "    </tr>\n",
       "    <tr>\n",
       "      <th>2</th>\n",
       "      <td>Edith</td>\n",
       "      <td>1</td>\n",
       "      <td>2M</td>\n",
       "      <td>9.76</td>\n",
       "      <td>Romance</td>\n",
       "      <td>MONDAY</td>\n",
       "      <td>32</td>\n",
       "    </tr>\n",
       "    <tr>\n",
       "      <th>3</th>\n",
       "      <td>Sweet Home</td>\n",
       "      <td>2</td>\n",
       "      <td>6.4M</td>\n",
       "      <td>9.84</td>\n",
       "      <td>Thriller</td>\n",
       "      <td>MONDAY</td>\n",
       "      <td>89</td>\n",
       "    </tr>\n",
       "    <tr>\n",
       "      <th>4</th>\n",
       "      <td>My Giant Nerd Boyfriend</td>\n",
       "      <td>1</td>\n",
       "      <td>22.4M</td>\n",
       "      <td>9.73</td>\n",
       "      <td>Slice of life</td>\n",
       "      <td>MONDAY</td>\n",
       "      <td>344</td>\n",
       "    </tr>\n",
       "    <tr>\n",
       "      <th>5</th>\n",
       "      <td>Ghost Wife</td>\n",
       "      <td>1</td>\n",
       "      <td>4.8M</td>\n",
       "      <td>9.68</td>\n",
       "      <td>Romance</td>\n",
       "      <td>MONDAY</td>\n",
       "      <td>92</td>\n",
       "    </tr>\n",
       "    <tr>\n",
       "      <th>6</th>\n",
       "      <td>Tower of God</td>\n",
       "      <td>1</td>\n",
       "      <td>14.1M</td>\n",
       "      <td>9.83</td>\n",
       "      <td>Fantasy</td>\n",
       "      <td>MONDAY</td>\n",
       "      <td>442</td>\n",
       "    </tr>\n",
       "    <tr>\n",
       "      <th>7</th>\n",
       "      <td>Choco Latte</td>\n",
       "      <td>1</td>\n",
       "      <td>343,065</td>\n",
       "      <td>9.70</td>\n",
       "      <td>Romance</td>\n",
       "      <td>MONDAY</td>\n",
       "      <td>11</td>\n",
       "    </tr>\n",
       "    <tr>\n",
       "      <th>8</th>\n",
       "      <td>Code Adam</td>\n",
       "      <td>1</td>\n",
       "      <td>375,861</td>\n",
       "      <td>9.79</td>\n",
       "      <td>Action</td>\n",
       "      <td>MONDAY</td>\n",
       "      <td>13</td>\n",
       "    </tr>\n",
       "    <tr>\n",
       "      <th>9</th>\n",
       "      <td>Room of Swords</td>\n",
       "      <td>1</td>\n",
       "      <td>2M</td>\n",
       "      <td>9.78</td>\n",
       "      <td>Sci-fi</td>\n",
       "      <td>MONDAY</td>\n",
       "      <td>82</td>\n",
       "    </tr>\n",
       "  </tbody>\n",
       "</table>\n",
       "</div>"
      ],
      "text/plain": [
       "                      Name  Creator    Heart  Score          Genre  Status  \\\n",
       "0                  SubZero        1     3.1M   9.82        Romance  MONDAY   \n",
       "1     Cursed Princess Club        1     1.9M   9.76         Comedy  MONDAY   \n",
       "2                    Edith        1       2M   9.76        Romance  MONDAY   \n",
       "3               Sweet Home        2     6.4M   9.84       Thriller  MONDAY   \n",
       "4  My Giant Nerd Boyfriend        1    22.4M   9.73  Slice of life  MONDAY   \n",
       "5               Ghost Wife        1     4.8M   9.68        Romance  MONDAY   \n",
       "6             Tower of God        1    14.1M   9.83        Fantasy  MONDAY   \n",
       "7              Choco Latte        1  343,065   9.70        Romance  MONDAY   \n",
       "8                Code Adam        1  375,861   9.79         Action  MONDAY   \n",
       "9           Room of Swords        1       2M   9.78         Sci-fi  MONDAY   \n",
       "\n",
       "   Episode  \n",
       "0       35  \n",
       "1       32  \n",
       "2       32  \n",
       "3       89  \n",
       "4      344  \n",
       "5       92  \n",
       "6      442  \n",
       "7       11  \n",
       "8       13  \n",
       "9       82  "
      ]
     },
     "execution_count": 9,
     "metadata": {},
     "output_type": "execute_result"
    }
   ],
   "source": [
    "df.head(10)"
   ]
  },
  {
   "cell_type": "markdown",
   "metadata": {},
   "source": [
    "## Data Cleaning"
   ]
  },
  {
   "cell_type": "markdown",
   "metadata": {},
   "source": [
    "Task 1: Delete repeated webtoons since some of them update more than once a week"
   ]
  },
  {
   "cell_type": "code",
   "execution_count": 11,
   "metadata": {
    "scrolled": false
   },
   "outputs": [
    {
     "data": {
      "text/html": [
       "<div>\n",
       "<style scoped>\n",
       "    .dataframe tbody tr th:only-of-type {\n",
       "        vertical-align: middle;\n",
       "    }\n",
       "\n",
       "    .dataframe tbody tr th {\n",
       "        vertical-align: top;\n",
       "    }\n",
       "\n",
       "    .dataframe thead th {\n",
       "        text-align: right;\n",
       "    }\n",
       "</style>\n",
       "<table border=\"1\" class=\"dataframe\">\n",
       "  <thead>\n",
       "    <tr style=\"text-align: right;\">\n",
       "      <th></th>\n",
       "      <th>Name</th>\n",
       "      <th>Creator</th>\n",
       "      <th>Heart</th>\n",
       "      <th>Score</th>\n",
       "      <th>Genre</th>\n",
       "      <th>Status</th>\n",
       "      <th>Episode</th>\n",
       "    </tr>\n",
       "  </thead>\n",
       "  <tbody>\n",
       "    <tr>\n",
       "      <th>67</th>\n",
       "      <td>Yumi's Cells</td>\n",
       "      <td>1</td>\n",
       "      <td>7.9M</td>\n",
       "      <td>9.73</td>\n",
       "      <td>Romance</td>\n",
       "      <td>WEDNESDAY</td>\n",
       "      <td>405</td>\n",
       "    </tr>\n",
       "    <tr>\n",
       "      <th>158</th>\n",
       "      <td>Yumi's Cells</td>\n",
       "      <td>1</td>\n",
       "      <td>7.9M</td>\n",
       "      <td>9.73</td>\n",
       "      <td>Romance</td>\n",
       "      <td>SATURDAY</td>\n",
       "      <td>405</td>\n",
       "    </tr>\n",
       "  </tbody>\n",
       "</table>\n",
       "</div>"
      ],
      "text/plain": [
       "             Name  Creator Heart  Score    Genre     Status  Episode\n",
       "67   Yumi's Cells        1  7.9M   9.73  Romance  WEDNESDAY      405\n",
       "158  Yumi's Cells        1  7.9M   9.73  Romance   SATURDAY      405"
      ]
     },
     "execution_count": 11,
     "metadata": {},
     "output_type": "execute_result"
    }
   ],
   "source": [
    "df.loc[df['Name'] == \"Yumi's Cells\"]"
   ]
  },
  {
   "cell_type": "code",
   "execution_count": 12,
   "metadata": {
    "scrolled": true
   },
   "outputs": [
    {
     "data": {
      "text/plain": [
       "317"
      ]
     },
     "execution_count": 12,
     "metadata": {},
     "output_type": "execute_result"
    }
   ],
   "source": [
    "df.drop_duplicates(subset = \"Name\", inplace = True)\n",
    "len(df) # dropped 45 duplicates"
   ]
  },
  {
   "cell_type": "markdown",
   "metadata": {},
   "source": [
    "Task 2: Change the Heart column from a string to a float"
   ]
  },
  {
   "cell_type": "code",
   "execution_count": 14,
   "metadata": {},
   "outputs": [],
   "source": [
    "def value_to_float(x):\n",
    "    if \"M\" in x:\n",
    "        return float(x.replace('M',''))*1000000\n",
    "    if \",\" in x:\n",
    "        return float(x.replace(',',''))\n",
    "    \n",
    "# Apply value_to_float function to the Heart column\n",
    "df['Heart'] = df['Heart'].map(value_to_float)"
   ]
  },
  {
   "cell_type": "markdown",
   "metadata": {},
   "source": [
    "Task 3: Convert weekday as string to respected integers and completed webtoon to 0"
   ]
  },
  {
   "cell_type": "code",
   "execution_count": 15,
   "metadata": {},
   "outputs": [],
   "source": [
    "import calendar\n",
    "\n",
    "def str_to_int(x):\n",
    "    if x == \"COMPLETED\":\n",
    "        return 0\n",
    "    x = str.title(x)\n",
    "    days = dict(zip(calendar.day_name, range(7)))\n",
    "    return days[x]+1\n",
    "\n",
    "# Apply str_to_int function to the Status column \n",
    "df['Status'] = df['Status'].map(str_to_int)"
   ]
  },
  {
   "cell_type": "code",
   "execution_count": 16,
   "metadata": {
    "scrolled": false
   },
   "outputs": [
    {
     "data": {
      "text/html": [
       "<div>\n",
       "<style scoped>\n",
       "    .dataframe tbody tr th:only-of-type {\n",
       "        vertical-align: middle;\n",
       "    }\n",
       "\n",
       "    .dataframe tbody tr th {\n",
       "        vertical-align: top;\n",
       "    }\n",
       "\n",
       "    .dataframe thead th {\n",
       "        text-align: right;\n",
       "    }\n",
       "</style>\n",
       "<table border=\"1\" class=\"dataframe\">\n",
       "  <thead>\n",
       "    <tr style=\"text-align: right;\">\n",
       "      <th></th>\n",
       "      <th>Name</th>\n",
       "      <th>Creator</th>\n",
       "      <th>Heart</th>\n",
       "      <th>Score</th>\n",
       "      <th>Genre</th>\n",
       "      <th>Status</th>\n",
       "      <th>Episode</th>\n",
       "    </tr>\n",
       "  </thead>\n",
       "  <tbody>\n",
       "    <tr>\n",
       "      <th>0</th>\n",
       "      <td>SubZero</td>\n",
       "      <td>1</td>\n",
       "      <td>3100000.0</td>\n",
       "      <td>9.82</td>\n",
       "      <td>Romance</td>\n",
       "      <td>1</td>\n",
       "      <td>35</td>\n",
       "    </tr>\n",
       "    <tr>\n",
       "      <th>1</th>\n",
       "      <td>Cursed Princess Club</td>\n",
       "      <td>1</td>\n",
       "      <td>1900000.0</td>\n",
       "      <td>9.76</td>\n",
       "      <td>Comedy</td>\n",
       "      <td>1</td>\n",
       "      <td>32</td>\n",
       "    </tr>\n",
       "    <tr>\n",
       "      <th>2</th>\n",
       "      <td>Edith</td>\n",
       "      <td>1</td>\n",
       "      <td>2000000.0</td>\n",
       "      <td>9.76</td>\n",
       "      <td>Romance</td>\n",
       "      <td>1</td>\n",
       "      <td>32</td>\n",
       "    </tr>\n",
       "    <tr>\n",
       "      <th>3</th>\n",
       "      <td>Sweet Home</td>\n",
       "      <td>2</td>\n",
       "      <td>6400000.0</td>\n",
       "      <td>9.84</td>\n",
       "      <td>Thriller</td>\n",
       "      <td>1</td>\n",
       "      <td>89</td>\n",
       "    </tr>\n",
       "    <tr>\n",
       "      <th>4</th>\n",
       "      <td>My Giant Nerd Boyfriend</td>\n",
       "      <td>1</td>\n",
       "      <td>22400000.0</td>\n",
       "      <td>9.73</td>\n",
       "      <td>Slice of life</td>\n",
       "      <td>1</td>\n",
       "      <td>344</td>\n",
       "    </tr>\n",
       "  </tbody>\n",
       "</table>\n",
       "</div>"
      ],
      "text/plain": [
       "                      Name  Creator       Heart  Score          Genre  Status  \\\n",
       "0                  SubZero        1   3100000.0   9.82        Romance       1   \n",
       "1     Cursed Princess Club        1   1900000.0   9.76         Comedy       1   \n",
       "2                    Edith        1   2000000.0   9.76        Romance       1   \n",
       "3               Sweet Home        2   6400000.0   9.84       Thriller       1   \n",
       "4  My Giant Nerd Boyfriend        1  22400000.0   9.73  Slice of life       1   \n",
       "\n",
       "   Episode  \n",
       "0       35  \n",
       "1       32  \n",
       "2       32  \n",
       "3       89  \n",
       "4      344  "
      ]
     },
     "execution_count": 16,
     "metadata": {},
     "output_type": "execute_result"
    }
   ],
   "source": [
    "df.head()"
   ]
  },
  {
   "cell_type": "code",
   "execution_count": 17,
   "metadata": {},
   "outputs": [
    {
     "data": {
      "text/html": [
       "<div>\n",
       "<style scoped>\n",
       "    .dataframe tbody tr th:only-of-type {\n",
       "        vertical-align: middle;\n",
       "    }\n",
       "\n",
       "    .dataframe tbody tr th {\n",
       "        vertical-align: top;\n",
       "    }\n",
       "\n",
       "    .dataframe thead th {\n",
       "        text-align: right;\n",
       "    }\n",
       "</style>\n",
       "<table border=\"1\" class=\"dataframe\">\n",
       "  <thead>\n",
       "    <tr style=\"text-align: right;\">\n",
       "      <th></th>\n",
       "      <th>Creator</th>\n",
       "      <th>Heart</th>\n",
       "      <th>Score</th>\n",
       "      <th>Status</th>\n",
       "      <th>Episode</th>\n",
       "    </tr>\n",
       "  </thead>\n",
       "  <tbody>\n",
       "    <tr>\n",
       "      <th>count</th>\n",
       "      <td>317.000000</td>\n",
       "      <td>3.170000e+02</td>\n",
       "      <td>317.000000</td>\n",
       "      <td>317.000000</td>\n",
       "      <td>317.000000</td>\n",
       "    </tr>\n",
       "    <tr>\n",
       "      <th>mean</th>\n",
       "      <td>1.201893</td>\n",
       "      <td>2.018442e+06</td>\n",
       "      <td>9.350631</td>\n",
       "      <td>1.848580</td>\n",
       "      <td>112.283912</td>\n",
       "    </tr>\n",
       "    <tr>\n",
       "      <th>std</th>\n",
       "      <td>0.402047</td>\n",
       "      <td>3.492370e+06</td>\n",
       "      <td>0.654262</td>\n",
       "      <td>2.337593</td>\n",
       "      <td>124.116733</td>\n",
       "    </tr>\n",
       "    <tr>\n",
       "      <th>min</th>\n",
       "      <td>1.000000</td>\n",
       "      <td>5.527000e+03</td>\n",
       "      <td>5.560000</td>\n",
       "      <td>0.000000</td>\n",
       "      <td>3.000000</td>\n",
       "    </tr>\n",
       "    <tr>\n",
       "      <th>25%</th>\n",
       "      <td>1.000000</td>\n",
       "      <td>1.934770e+05</td>\n",
       "      <td>9.220000</td>\n",
       "      <td>0.000000</td>\n",
       "      <td>28.000000</td>\n",
       "    </tr>\n",
       "    <tr>\n",
       "      <th>50%</th>\n",
       "      <td>1.000000</td>\n",
       "      <td>5.405010e+05</td>\n",
       "      <td>9.550000</td>\n",
       "      <td>0.000000</td>\n",
       "      <td>69.000000</td>\n",
       "    </tr>\n",
       "    <tr>\n",
       "      <th>75%</th>\n",
       "      <td>1.000000</td>\n",
       "      <td>2.000000e+06</td>\n",
       "      <td>9.730000</td>\n",
       "      <td>3.000000</td>\n",
       "      <td>144.000000</td>\n",
       "    </tr>\n",
       "    <tr>\n",
       "      <th>max</th>\n",
       "      <td>2.000000</td>\n",
       "      <td>2.240000e+07</td>\n",
       "      <td>9.930000</td>\n",
       "      <td>7.000000</td>\n",
       "      <td>714.000000</td>\n",
       "    </tr>\n",
       "  </tbody>\n",
       "</table>\n",
       "</div>"
      ],
      "text/plain": [
       "          Creator         Heart       Score      Status     Episode\n",
       "count  317.000000  3.170000e+02  317.000000  317.000000  317.000000\n",
       "mean     1.201893  2.018442e+06    9.350631    1.848580  112.283912\n",
       "std      0.402047  3.492370e+06    0.654262    2.337593  124.116733\n",
       "min      1.000000  5.527000e+03    5.560000    0.000000    3.000000\n",
       "25%      1.000000  1.934770e+05    9.220000    0.000000   28.000000\n",
       "50%      1.000000  5.405010e+05    9.550000    0.000000   69.000000\n",
       "75%      1.000000  2.000000e+06    9.730000    3.000000  144.000000\n",
       "max      2.000000  2.240000e+07    9.930000    7.000000  714.000000"
      ]
     },
     "execution_count": 17,
     "metadata": {},
     "output_type": "execute_result"
    }
   ],
   "source": [
    "df.describe()"
   ]
  },
  {
   "cell_type": "code",
   "execution_count": 318,
   "metadata": {},
   "outputs": [],
   "source": [
    "# Save the changes\n",
    "# df.to_csv('webtoons_data.csv', index = False) \n",
    "# df = pd.read_csv('webtoons_data.csv')"
   ]
  },
  {
   "cell_type": "markdown",
   "metadata": {},
   "source": [
    "## Basic Analysis"
   ]
  },
  {
   "cell_type": "markdown",
   "metadata": {},
   "source": [
    "What are the webtoons updated on Monday? How many of them have a score below the average score of all webtoons? What are they?"
   ]
  },
  {
   "cell_type": "code",
   "execution_count": 18,
   "metadata": {
    "scrolled": true
   },
   "outputs": [
    {
     "data": {
      "text/html": [
       "<div>\n",
       "<style scoped>\n",
       "    .dataframe tbody tr th:only-of-type {\n",
       "        vertical-align: middle;\n",
       "    }\n",
       "\n",
       "    .dataframe tbody tr th {\n",
       "        vertical-align: top;\n",
       "    }\n",
       "\n",
       "    .dataframe thead th {\n",
       "        text-align: right;\n",
       "    }\n",
       "</style>\n",
       "<table border=\"1\" class=\"dataframe\">\n",
       "  <thead>\n",
       "    <tr style=\"text-align: right;\">\n",
       "      <th></th>\n",
       "      <th>Name</th>\n",
       "      <th>Creator</th>\n",
       "      <th>Heart</th>\n",
       "      <th>Score</th>\n",
       "      <th>Genre</th>\n",
       "      <th>Status</th>\n",
       "      <th>Episode</th>\n",
       "    </tr>\n",
       "  </thead>\n",
       "  <tbody>\n",
       "    <tr>\n",
       "      <th>0</th>\n",
       "      <td>SubZero</td>\n",
       "      <td>1</td>\n",
       "      <td>3100000.0</td>\n",
       "      <td>9.82</td>\n",
       "      <td>Romance</td>\n",
       "      <td>1</td>\n",
       "      <td>35</td>\n",
       "    </tr>\n",
       "    <tr>\n",
       "      <th>1</th>\n",
       "      <td>Cursed Princess Club</td>\n",
       "      <td>1</td>\n",
       "      <td>1900000.0</td>\n",
       "      <td>9.76</td>\n",
       "      <td>Comedy</td>\n",
       "      <td>1</td>\n",
       "      <td>32</td>\n",
       "    </tr>\n",
       "    <tr>\n",
       "      <th>2</th>\n",
       "      <td>Edith</td>\n",
       "      <td>1</td>\n",
       "      <td>2000000.0</td>\n",
       "      <td>9.76</td>\n",
       "      <td>Romance</td>\n",
       "      <td>1</td>\n",
       "      <td>32</td>\n",
       "    </tr>\n",
       "    <tr>\n",
       "      <th>3</th>\n",
       "      <td>Sweet Home</td>\n",
       "      <td>2</td>\n",
       "      <td>6400000.0</td>\n",
       "      <td>9.84</td>\n",
       "      <td>Thriller</td>\n",
       "      <td>1</td>\n",
       "      <td>89</td>\n",
       "    </tr>\n",
       "    <tr>\n",
       "      <th>4</th>\n",
       "      <td>My Giant Nerd Boyfriend</td>\n",
       "      <td>1</td>\n",
       "      <td>22400000.0</td>\n",
       "      <td>9.73</td>\n",
       "      <td>Slice of life</td>\n",
       "      <td>1</td>\n",
       "      <td>344</td>\n",
       "    </tr>\n",
       "  </tbody>\n",
       "</table>\n",
       "</div>"
      ],
      "text/plain": [
       "                      Name  Creator       Heart  Score          Genre  Status  \\\n",
       "0                  SubZero        1   3100000.0   9.82        Romance       1   \n",
       "1     Cursed Princess Club        1   1900000.0   9.76         Comedy       1   \n",
       "2                    Edith        1   2000000.0   9.76        Romance       1   \n",
       "3               Sweet Home        2   6400000.0   9.84       Thriller       1   \n",
       "4  My Giant Nerd Boyfriend        1  22400000.0   9.73  Slice of life       1   \n",
       "\n",
       "   Episode  \n",
       "0       35  \n",
       "1       32  \n",
       "2       32  \n",
       "3       89  \n",
       "4      344  "
      ]
     },
     "execution_count": 18,
     "metadata": {},
     "output_type": "execute_result"
    }
   ],
   "source": [
    "# To query webtoons updated on Monday\n",
    "monday = df[df.Status == 1]\n",
    "monday.head()"
   ]
  },
  {
   "cell_type": "code",
   "execution_count": 19,
   "metadata": {},
   "outputs": [
    {
     "data": {
      "text/plain": [
       "9.350630914826498"
      ]
     },
     "execution_count": 19,
     "metadata": {},
     "output_type": "execute_result"
    }
   ],
   "source": [
    "avg_score = df['Score'].mean()\n",
    "avg_score "
   ]
  },
  {
   "cell_type": "code",
   "execution_count": 20,
   "metadata": {
    "scrolled": true
   },
   "outputs": [
    {
     "data": {
      "text/html": [
       "<div>\n",
       "<style scoped>\n",
       "    .dataframe tbody tr th:only-of-type {\n",
       "        vertical-align: middle;\n",
       "    }\n",
       "\n",
       "    .dataframe tbody tr th {\n",
       "        vertical-align: top;\n",
       "    }\n",
       "\n",
       "    .dataframe thead th {\n",
       "        text-align: right;\n",
       "    }\n",
       "</style>\n",
       "<table border=\"1\" class=\"dataframe\">\n",
       "  <thead>\n",
       "    <tr style=\"text-align: right;\">\n",
       "      <th></th>\n",
       "      <th>Name</th>\n",
       "      <th>Creator</th>\n",
       "      <th>Heart</th>\n",
       "      <th>Score</th>\n",
       "      <th>Genre</th>\n",
       "      <th>Status</th>\n",
       "      <th>Episode</th>\n",
       "    </tr>\n",
       "  </thead>\n",
       "  <tbody>\n",
       "    <tr>\n",
       "      <th>21</th>\n",
       "      <td>Messenger</td>\n",
       "      <td>2</td>\n",
       "      <td>428270.0</td>\n",
       "      <td>9.17</td>\n",
       "      <td>Fantasy</td>\n",
       "      <td>1</td>\n",
       "      <td>60</td>\n",
       "    </tr>\n",
       "  </tbody>\n",
       "</table>\n",
       "</div>"
      ],
      "text/plain": [
       "         Name  Creator     Heart  Score    Genre  Status  Episode\n",
       "21  Messenger        2  428270.0   9.17  Fantasy       1       60"
      ]
     },
     "execution_count": 20,
     "metadata": {},
     "output_type": "execute_result"
    }
   ],
   "source": [
    "# To query those with a score lower than average\n",
    "below_avg = monday[monday['Score'] < avg_score]\n",
    "below_avg"
   ]
  },
  {
   "cell_type": "markdown",
   "metadata": {},
   "source": [
    "We can also sort the table by Heart"
   ]
  },
  {
   "cell_type": "code",
   "execution_count": 21,
   "metadata": {
    "scrolled": true
   },
   "outputs": [
    {
     "data": {
      "text/html": [
       "<div>\n",
       "<style scoped>\n",
       "    .dataframe tbody tr th:only-of-type {\n",
       "        vertical-align: middle;\n",
       "    }\n",
       "\n",
       "    .dataframe tbody tr th {\n",
       "        vertical-align: top;\n",
       "    }\n",
       "\n",
       "    .dataframe thead th {\n",
       "        text-align: right;\n",
       "    }\n",
       "</style>\n",
       "<table border=\"1\" class=\"dataframe\">\n",
       "  <thead>\n",
       "    <tr style=\"text-align: right;\">\n",
       "      <th></th>\n",
       "      <th>Name</th>\n",
       "      <th>Creator</th>\n",
       "      <th>Heart</th>\n",
       "      <th>Score</th>\n",
       "      <th>Genre</th>\n",
       "      <th>Status</th>\n",
       "      <th>Episode</th>\n",
       "    </tr>\n",
       "  </thead>\n",
       "  <tbody>\n",
       "    <tr>\n",
       "      <th>4</th>\n",
       "      <td>My Giant Nerd Boyfriend</td>\n",
       "      <td>1</td>\n",
       "      <td>22400000.0</td>\n",
       "      <td>9.73</td>\n",
       "      <td>Slice of life</td>\n",
       "      <td>1</td>\n",
       "      <td>344</td>\n",
       "    </tr>\n",
       "    <tr>\n",
       "      <th>62</th>\n",
       "      <td>Bluechair</td>\n",
       "      <td>1</td>\n",
       "      <td>21000000.0</td>\n",
       "      <td>9.73</td>\n",
       "      <td>Comedy</td>\n",
       "      <td>3</td>\n",
       "      <td>714</td>\n",
       "    </tr>\n",
       "    <tr>\n",
       "      <th>87</th>\n",
       "      <td>unOrdinary</td>\n",
       "      <td>1</td>\n",
       "      <td>19000000.0</td>\n",
       "      <td>9.83</td>\n",
       "      <td>Fantasy</td>\n",
       "      <td>4</td>\n",
       "      <td>159</td>\n",
       "    </tr>\n",
       "    <tr>\n",
       "      <th>181</th>\n",
       "      <td>Lookism</td>\n",
       "      <td>1</td>\n",
       "      <td>16800000.0</td>\n",
       "      <td>9.82</td>\n",
       "      <td>Drama</td>\n",
       "      <td>7</td>\n",
       "      <td>246</td>\n",
       "    </tr>\n",
       "    <tr>\n",
       "      <th>31</th>\n",
       "      <td>Winter Moon</td>\n",
       "      <td>2</td>\n",
       "      <td>15700000.0</td>\n",
       "      <td>9.45</td>\n",
       "      <td>Fantasy</td>\n",
       "      <td>2</td>\n",
       "      <td>291</td>\n",
       "    </tr>\n",
       "    <tr>\n",
       "      <th>112</th>\n",
       "      <td>I Love Yoo</td>\n",
       "      <td>1</td>\n",
       "      <td>14600000.0</td>\n",
       "      <td>9.83</td>\n",
       "      <td>Romance</td>\n",
       "      <td>5</td>\n",
       "      <td>99</td>\n",
       "    </tr>\n",
       "    <tr>\n",
       "      <th>6</th>\n",
       "      <td>Tower of God</td>\n",
       "      <td>1</td>\n",
       "      <td>14100000.0</td>\n",
       "      <td>9.83</td>\n",
       "      <td>Fantasy</td>\n",
       "      <td>1</td>\n",
       "      <td>442</td>\n",
       "    </tr>\n",
       "    <tr>\n",
       "      <th>30</th>\n",
       "      <td>Boyfriend of the Dead</td>\n",
       "      <td>1</td>\n",
       "      <td>14100000.0</td>\n",
       "      <td>9.78</td>\n",
       "      <td>Comedy</td>\n",
       "      <td>2</td>\n",
       "      <td>212</td>\n",
       "    </tr>\n",
       "    <tr>\n",
       "      <th>144</th>\n",
       "      <td>Siren's Lament</td>\n",
       "      <td>1</td>\n",
       "      <td>12800000.0</td>\n",
       "      <td>9.75</td>\n",
       "      <td>Romance</td>\n",
       "      <td>6</td>\n",
       "      <td>164</td>\n",
       "    </tr>\n",
       "    <tr>\n",
       "      <th>27</th>\n",
       "      <td>Let's Play</td>\n",
       "      <td>1</td>\n",
       "      <td>11900000.0</td>\n",
       "      <td>9.66</td>\n",
       "      <td>Romance</td>\n",
       "      <td>2</td>\n",
       "      <td>82</td>\n",
       "    </tr>\n",
       "  </tbody>\n",
       "</table>\n",
       "</div>"
      ],
      "text/plain": [
       "                        Name  Creator       Heart  Score          Genre  \\\n",
       "4    My Giant Nerd Boyfriend        1  22400000.0   9.73  Slice of life   \n",
       "62                 Bluechair        1  21000000.0   9.73         Comedy   \n",
       "87                unOrdinary        1  19000000.0   9.83        Fantasy   \n",
       "181                  Lookism        1  16800000.0   9.82          Drama   \n",
       "31               Winter Moon        2  15700000.0   9.45        Fantasy   \n",
       "112               I Love Yoo        1  14600000.0   9.83        Romance   \n",
       "6               Tower of God        1  14100000.0   9.83        Fantasy   \n",
       "30     Boyfriend of the Dead        1  14100000.0   9.78         Comedy   \n",
       "144           Siren's Lament        1  12800000.0   9.75        Romance   \n",
       "27                Let's Play        1  11900000.0   9.66        Romance   \n",
       "\n",
       "     Status  Episode  \n",
       "4         1      344  \n",
       "62        3      714  \n",
       "87        4      159  \n",
       "181       7      246  \n",
       "31        2      291  \n",
       "112       5       99  \n",
       "6         1      442  \n",
       "30        2      212  \n",
       "144       6      164  \n",
       "27        2       82  "
      ]
     },
     "execution_count": 21,
     "metadata": {},
     "output_type": "execute_result"
    }
   ],
   "source": [
    "sort_by_heart = df.sort_values('Heart', ascending = False)\n",
    "sort_by_heart[:10] # Top ten webtoons with the most Hearts"
   ]
  },
  {
   "cell_type": "code",
   "execution_count": 22,
   "metadata": {
    "scrolled": true
   },
   "outputs": [
    {
     "data": {
      "text/html": [
       "<div>\n",
       "<style scoped>\n",
       "    .dataframe tbody tr th:only-of-type {\n",
       "        vertical-align: middle;\n",
       "    }\n",
       "\n",
       "    .dataframe tbody tr th {\n",
       "        vertical-align: top;\n",
       "    }\n",
       "\n",
       "    .dataframe thead th {\n",
       "        text-align: right;\n",
       "    }\n",
       "</style>\n",
       "<table border=\"1\" class=\"dataframe\">\n",
       "  <thead>\n",
       "    <tr style=\"text-align: right;\">\n",
       "      <th></th>\n",
       "      <th>Name</th>\n",
       "      <th>Creator</th>\n",
       "      <th>Heart</th>\n",
       "      <th>Score</th>\n",
       "      <th>Genre</th>\n",
       "      <th>Status</th>\n",
       "      <th>Episode</th>\n",
       "    </tr>\n",
       "  </thead>\n",
       "  <tbody>\n",
       "    <tr>\n",
       "      <th>334</th>\n",
       "      <td>The Purple Heart</td>\n",
       "      <td>2</td>\n",
       "      <td>34984.0</td>\n",
       "      <td>9.09</td>\n",
       "      <td>Superhero</td>\n",
       "      <td>0</td>\n",
       "      <td>26</td>\n",
       "    </tr>\n",
       "    <tr>\n",
       "      <th>344</th>\n",
       "      <td>War Cry</td>\n",
       "      <td>1</td>\n",
       "      <td>31367.0</td>\n",
       "      <td>7.19</td>\n",
       "      <td>Superhero</td>\n",
       "      <td>0</td>\n",
       "      <td>26</td>\n",
       "    </tr>\n",
       "    <tr>\n",
       "      <th>226</th>\n",
       "      <td>The Brooklynite</td>\n",
       "      <td>2</td>\n",
       "      <td>24389.0</td>\n",
       "      <td>9.04</td>\n",
       "      <td>Superhero</td>\n",
       "      <td>0</td>\n",
       "      <td>26</td>\n",
       "    </tr>\n",
       "    <tr>\n",
       "      <th>300</th>\n",
       "      <td>Just Ask Yuli</td>\n",
       "      <td>1</td>\n",
       "      <td>21391.0</td>\n",
       "      <td>7.57</td>\n",
       "      <td>Slice of life</td>\n",
       "      <td>0</td>\n",
       "      <td>25</td>\n",
       "    </tr>\n",
       "    <tr>\n",
       "      <th>142</th>\n",
       "      <td>Acursian</td>\n",
       "      <td>2</td>\n",
       "      <td>19110.0</td>\n",
       "      <td>7.33</td>\n",
       "      <td>Fantasy</td>\n",
       "      <td>5</td>\n",
       "      <td>9</td>\n",
       "    </tr>\n",
       "    <tr>\n",
       "      <th>143</th>\n",
       "      <td>FINALITY</td>\n",
       "      <td>2</td>\n",
       "      <td>15570.0</td>\n",
       "      <td>8.33</td>\n",
       "      <td>Thriller</td>\n",
       "      <td>5</td>\n",
       "      <td>8</td>\n",
       "    </tr>\n",
       "    <tr>\n",
       "      <th>356</th>\n",
       "      <td>City of Walls</td>\n",
       "      <td>2</td>\n",
       "      <td>14226.0</td>\n",
       "      <td>7.43</td>\n",
       "      <td>Action</td>\n",
       "      <td>0</td>\n",
       "      <td>59</td>\n",
       "    </tr>\n",
       "    <tr>\n",
       "      <th>269</th>\n",
       "      <td>Epic V</td>\n",
       "      <td>2</td>\n",
       "      <td>13836.0</td>\n",
       "      <td>5.67</td>\n",
       "      <td>Comedy</td>\n",
       "      <td>0</td>\n",
       "      <td>27</td>\n",
       "    </tr>\n",
       "    <tr>\n",
       "      <th>81</th>\n",
       "      <td>STARCROSS</td>\n",
       "      <td>1</td>\n",
       "      <td>11277.0</td>\n",
       "      <td>7.57</td>\n",
       "      <td>Superhero</td>\n",
       "      <td>3</td>\n",
       "      <td>24</td>\n",
       "    </tr>\n",
       "    <tr>\n",
       "      <th>230</th>\n",
       "      <td>Cyko-KO</td>\n",
       "      <td>1</td>\n",
       "      <td>5527.0</td>\n",
       "      <td>7.56</td>\n",
       "      <td>Comedy</td>\n",
       "      <td>0</td>\n",
       "      <td>26</td>\n",
       "    </tr>\n",
       "  </tbody>\n",
       "</table>\n",
       "</div>"
      ],
      "text/plain": [
       "                 Name  Creator    Heart  Score          Genre  Status  Episode\n",
       "334  The Purple Heart        2  34984.0   9.09      Superhero       0       26\n",
       "344           War Cry        1  31367.0   7.19      Superhero       0       26\n",
       "226   The Brooklynite        2  24389.0   9.04      Superhero       0       26\n",
       "300     Just Ask Yuli        1  21391.0   7.57  Slice of life       0       25\n",
       "142          Acursian        2  19110.0   7.33        Fantasy       5        9\n",
       "143          FINALITY        2  15570.0   8.33       Thriller       5        8\n",
       "356     City of Walls        2  14226.0   7.43         Action       0       59\n",
       "269            Epic V        2  13836.0   5.67         Comedy       0       27\n",
       "81          STARCROSS        1  11277.0   7.57      Superhero       3       24\n",
       "230           Cyko-KO        1   5527.0   7.56         Comedy       0       26"
      ]
     },
     "execution_count": 22,
     "metadata": {},
     "output_type": "execute_result"
    }
   ],
   "source": [
    "sort_by_heart[-10:] # Last 10 webtoons with the least amount of Hearts"
   ]
  },
  {
   "cell_type": "markdown",
   "metadata": {},
   "source": [
    "What are the webtoon with less than 100k hearts? Which genre are more likely to get less than 100k of hearts?"
   ]
  },
  {
   "cell_type": "code",
   "execution_count": 23,
   "metadata": {
    "scrolled": true
   },
   "outputs": [
    {
     "data": {
      "text/html": [
       "<div>\n",
       "<style scoped>\n",
       "    .dataframe tbody tr th:only-of-type {\n",
       "        vertical-align: middle;\n",
       "    }\n",
       "\n",
       "    .dataframe tbody tr th {\n",
       "        vertical-align: top;\n",
       "    }\n",
       "\n",
       "    .dataframe thead th {\n",
       "        text-align: right;\n",
       "    }\n",
       "</style>\n",
       "<table border=\"1\" class=\"dataframe\">\n",
       "  <thead>\n",
       "    <tr style=\"text-align: right;\">\n",
       "      <th></th>\n",
       "      <th>Name</th>\n",
       "      <th>Creator</th>\n",
       "      <th>Heart</th>\n",
       "      <th>Score</th>\n",
       "      <th>Genre</th>\n",
       "      <th>Status</th>\n",
       "      <th>Episode</th>\n",
       "    </tr>\n",
       "  </thead>\n",
       "  <tbody>\n",
       "    <tr>\n",
       "      <th>332</th>\n",
       "      <td>Cyberbunk</td>\n",
       "      <td>2</td>\n",
       "      <td>98244.0</td>\n",
       "      <td>8.56</td>\n",
       "      <td>Sci-fi</td>\n",
       "      <td>0</td>\n",
       "      <td>194</td>\n",
       "    </tr>\n",
       "    <tr>\n",
       "      <th>139</th>\n",
       "      <td>Brothers Bond</td>\n",
       "      <td>2</td>\n",
       "      <td>98112.0</td>\n",
       "      <td>9.25</td>\n",
       "      <td>Action</td>\n",
       "      <td>5</td>\n",
       "      <td>41</td>\n",
       "    </tr>\n",
       "    <tr>\n",
       "      <th>212</th>\n",
       "      <td>SHADOW</td>\n",
       "      <td>2</td>\n",
       "      <td>97988.0</td>\n",
       "      <td>9.41</td>\n",
       "      <td>Fantasy</td>\n",
       "      <td>0</td>\n",
       "      <td>12</td>\n",
       "    </tr>\n",
       "    <tr>\n",
       "      <th>315</th>\n",
       "      <td>Tickle Town</td>\n",
       "      <td>2</td>\n",
       "      <td>96028.0</td>\n",
       "      <td>6.60</td>\n",
       "      <td>Comedy</td>\n",
       "      <td>0</td>\n",
       "      <td>180</td>\n",
       "    </tr>\n",
       "    <tr>\n",
       "      <th>134</th>\n",
       "      <td>Thornstone</td>\n",
       "      <td>1</td>\n",
       "      <td>94238.0</td>\n",
       "      <td>9.10</td>\n",
       "      <td>Fantasy</td>\n",
       "      <td>5</td>\n",
       "      <td>21</td>\n",
       "    </tr>\n",
       "  </tbody>\n",
       "</table>\n",
       "</div>"
      ],
      "text/plain": [
       "              Name  Creator    Heart  Score    Genre  Status  Episode\n",
       "332      Cyberbunk        2  98244.0   8.56   Sci-fi       0      194\n",
       "139  Brothers Bond        2  98112.0   9.25   Action       5       41\n",
       "212         SHADOW        2  97988.0   9.41  Fantasy       0       12\n",
       "315    Tickle Town        2  96028.0   6.60   Comedy       0      180\n",
       "134     Thornstone        1  94238.0   9.10  Fantasy       5       21"
      ]
     },
     "execution_count": 23,
     "metadata": {},
     "output_type": "execute_result"
    }
   ],
   "source": [
    "low_heart = sort_by_heart[sort_by_heart['Heart'] < 100000]\n",
    "low_heart.head()"
   ]
  },
  {
   "cell_type": "code",
   "execution_count": 24,
   "metadata": {
    "scrolled": true
   },
   "outputs": [
    {
     "name": "stdout",
     "output_type": "stream",
     "text": [
      "There are 12 genres of webtoons:\n",
      "['Romance' 'Comedy' 'Thriller' 'Slice of life' 'Fantasy' 'Action' 'Sci-fi'\n",
      " 'Drama' 'Sports' 'Superhero' 'Informative' 'Horror']\n"
     ]
    }
   ],
   "source": [
    "genres = df['Genre'].unique() # genres of webtoon\n",
    "count_g = df['Genre'].nunique() # total number of genres\n",
    "print(\"There are \" + str(count_g) + ' genres of webtoons:')\n",
    "print(genres)"
   ]
  },
  {
   "cell_type": "code",
   "execution_count": 25,
   "metadata": {
    "scrolled": false
   },
   "outputs": [
    {
     "data": {
      "text/plain": [
       "Fantasy          10\n",
       "Comedy            7\n",
       "Superhero         6\n",
       "Drama             5\n",
       "Action            5\n",
       "Slice of life     5\n",
       "Sci-fi            4\n",
       "Thriller          3\n",
       "Romance           1\n",
       "Name: Genre, dtype: int64"
      ]
     },
     "execution_count": 25,
     "metadata": {},
     "output_type": "execute_result"
    }
   ],
   "source": [
    "heart_genre = low_heart['Genre'].value_counts()\n",
    "heart_genre"
   ]
  },
  {
   "cell_type": "markdown",
   "metadata": {},
   "source": [
    "The genre Fantasy is the most likely to get less than 100k hearts. "
   ]
  },
  {
   "cell_type": "markdown",
   "metadata": {},
   "source": [
    "## Visualizations"
   ]
  },
  {
   "cell_type": "code",
   "execution_count": 33,
   "metadata": {
    "scrolled": true
   },
   "outputs": [],
   "source": [
    "import matplotlib.pyplot as plt\n",
    "import seaborn as sns"
   ]
  },
  {
   "cell_type": "code",
   "execution_count": 45,
   "metadata": {
    "scrolled": false
   },
   "outputs": [
    {
     "data": {
      "image/png": "[encoded data removed]",
      "text/plain": [
       "<Figure size 1008x504 with 1 Axes>"
      ]
     },
     "metadata": {
      "needs_background": "light"
     },
     "output_type": "display_data"
    }
   ],
   "source": [
    "plt.subplots(figsize = (14,7))\n",
    "plt.title('Score by Genre')\n",
    "sns.boxplot(x = \"Genre\", y = \"Score\",data = df)\n",
    "plt.show()"
   ]
  },
  {
   "cell_type": "code",
   "execution_count": 54,
   "metadata": {},
   "outputs": [
    {
     "data": {
      "image/png": "[encoded data removed]",
      "text/plain": [
       "<Figure size 1008x504 with 1 Axes>"
      ]
     },
     "metadata": {
      "needs_background": "light"
     },
     "output_type": "display_data"
    }
   ],
   "source": [
    "plt.subplots(figsize = (14,7))\n",
    "plt.title('Strongest Genaration')\n",
    "sns.violinplot(x = \"Genre\", y = \"Episode\",data = df)\n",
    "plt.show()"
   ]
  }
 ],
 "metadata": {
  "kernelspec": {
   "display_name": "Python 3",
   "language": "python",
   "name": "python3"
  },
  "language_info": {
   "codemirror_mode": {
    "name": "ipython",
    "version": 3
   },
   "file_extension": ".py",
   "mimetype": "text/x-python",
   "name": "python",
   "nbconvert_exporter": "python",
   "pygments_lexer": "ipython3",
   "version": "3.7.1"
  }
 },
 "nbformat": 4,
 "nbformat_minor": 2
}
