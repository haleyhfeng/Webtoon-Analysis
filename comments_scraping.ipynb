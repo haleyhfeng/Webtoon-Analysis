{
 "cells": [
  {
   "cell_type": "code",
   "execution_count": 2,
   "metadata": {},
   "outputs": [],
   "source": [
    "import requests\n",
    "from urllib.request import urlopen\n",
    "from bs4 import BeautifulSoup\n",
    "from selenium import webdriver\n",
    "\n",
    "import os\n",
    "import time\n",
    "\n",
    "import numpy as np\n",
    "import pandas as pd\n",
    "import csv"
   ]
  },
  {
   "cell_type": "markdown",
   "metadata": {},
   "source": [
    "$Sweet Home$"
   ]
  },
  {
   "cell_type": "code",
   "execution_count": 3,
   "metadata": {},
   "outputs": [],
   "source": [
    "chromedriver = \"/Users/haley/Desktop/chromedriver\"\n",
    "os.environ[\"webdriver.chrome.driver\"] = chromedriver\n",
    "driver = webdriver.Chrome(chromedriver)\n",
    "driver.get('https://www.webtoons.com/en/romance/yumi-cell/ep-403-i-missed-you/viewer?title_no=478&episode_no=404')\n",
    "time.sleep(5)\n",
    "html = driver.page_source\n"
   ]
  },
  {
   "cell_type": "code",
   "execution_count": 4,
   "metadata": {},
   "outputs": [],
   "source": [
    "soup = BeautifulSoup(html, 'lxml')\n",
    "user = soup.find_all(class_= 'u_cbox_nick')\n",
    "comment = soup.find_all('span', class_='u_cbox_contents')"
   ]
  },
  {
   "cell_type": "code",
   "execution_count": 25,
   "metadata": {
    "scrolled": true
   },
   "outputs": [
    {
     "data": {
      "text/plain": [
       "16"
      ]
     },
     "execution_count": 25,
     "metadata": {},
     "output_type": "execute_result"
    }
   ],
   "source": [
    "wt_comments = csv.writer(open('wt_comments.csv', 'w')) # Created csv file\n",
    "wt_comments.writerow(['Users', 'Comments'])"
   ]
  },
  {
   "cell_type": "code",
   "execution_count": 26,
   "metadata": {
    "scrolled": false
   },
   "outputs": [
    {
     "data": {
      "text/plain": [
       "[<span class=\"u_cbox_contents\" data-lang=\"en\">He knows food is her weakness </span>,\n",
       " <span class=\"u_cbox_contents\" data-lang=\"en\">Remind us again why Hunger is is the shadow prime cell.he secretly controlled Yumi from darkness </span>,\n",
       " <span class=\"u_cbox_contents\" data-lang=\"en\">God damnit Woong! I'm starting to like you all over again!</span>,\n",
       " <span class=\"u_cbox_contents\" data-lang=\"en\">Oh no, I cannot go back to Woong and Yumi again. Yumi deserves better.</span>,\n",
       " <span class=\"u_cbox_contents\" data-lang=\"en\"> Gasp! Love Cell lost his scar! </span>,\n",
       " <span class=\"u_cbox_contents\" data-lang=\"en\"></span>,\n",
       " <span class=\"u_cbox_contents\" data-lang=\"en\">i don't know who to ship her with cause i don't want her to get hurt....</span>,\n",
       " <span class=\"u_cbox_contents\" data-lang=\"en\">i miss babi </span>,\n",
       " <span class=\"u_cbox_contents\" data-lang=\"en\">For the first time, Woong has a genuinely soft look on his face in front of Yumi❤️</span>,\n",
       " <span class=\"u_cbox_contents\" data-lang=\"en\">Got em</span>,\n",
       " <span class=\"u_cbox_contents\" data-lang=\"en\">Bcz our precious yumi is getting better and better! </span>,\n",
       " <span class=\"u_cbox_contents\" data-lang=\"en\">tbh its a little concerning how every sentence he says has an ulterior motive or hidden meaning</span>,\n",
       " <span class=\"u_cbox_contents\" data-lang=\"en\">i dont like this, at all</span>,\n",
       " <span class=\"u_cbox_contents\" data-lang=\"en\">it's not! you planned it all</span>,\n",
       " <span class=\"u_cbox_contents\" data-lang=\"en\">Me too. </span>,\n",
       " <span class=\"u_cbox_contents\" data-lang=\"en\">Yeay... I hope they are back in relationships... I cried when reading  they broke up ... </span>,\n",
       " <span class=\"u_cbox_contents\" data-lang=\"en\">I don't remember why they broke up </span>,\n",
       " <span class=\"u_cbox_contents\" data-lang=\"en\">my boy's so cute here</span>]"
      ]
     },
     "execution_count": 26,
     "metadata": {},
     "output_type": "execute_result"
    }
   ],
   "source": [
    "comment"
   ]
  },
  {
   "cell_type": "code",
   "execution_count": 27,
   "metadata": {},
   "outputs": [],
   "source": [
    "for u,c in zip(user, comment):\n",
    "    users = u.text\n",
    "    comments = c.text\n",
    "    wt_comments.writerow([users, comments]) "
   ]
  },
  {
   "cell_type": "code",
   "execution_count": 28,
   "metadata": {
    "scrolled": true
   },
   "outputs": [
    {
     "data": {
      "text/html": [
       "<div>\n",
       "<style scoped>\n",
       "    .dataframe tbody tr th:only-of-type {\n",
       "        vertical-align: middle;\n",
       "    }\n",
       "\n",
       "    .dataframe tbody tr th {\n",
       "        vertical-align: top;\n",
       "    }\n",
       "\n",
       "    .dataframe thead th {\n",
       "        text-align: right;\n",
       "    }\n",
       "</style>\n",
       "<table border=\"1\" class=\"dataframe\">\n",
       "  <thead>\n",
       "    <tr style=\"text-align: right;\">\n",
       "      <th></th>\n",
       "      <th>Users</th>\n",
       "      <th>Comments</th>\n",
       "    </tr>\n",
       "  </thead>\n",
       "  <tbody>\n",
       "    <tr>\n",
       "      <th>0</th>\n",
       "      <td>JuJu Bean🧝🏾‍♀️🍫💕</td>\n",
       "      <td>He knows food is her weakness</td>\n",
       "    </tr>\n",
       "    <tr>\n",
       "      <th>1</th>\n",
       "      <td>JohnRemi</td>\n",
       "      <td>Remind us again why Hunger is is the shadow pr...</td>\n",
       "    </tr>\n",
       "    <tr>\n",
       "      <th>2</th>\n",
       "      <td>Sandra Alee</td>\n",
       "      <td>God damnit Woong! I'm starting to like you all...</td>\n",
       "    </tr>\n",
       "    <tr>\n",
       "      <th>3</th>\n",
       "      <td>Chocolate_Cookies</td>\n",
       "      <td>Oh no, I cannot go back to Woong and Yumi agai...</td>\n",
       "    </tr>\n",
       "    <tr>\n",
       "      <th>4</th>\n",
       "      <td>KaitheMadShipper</td>\n",
       "      <td>Gasp! Love Cell lost his scar!</td>\n",
       "    </tr>\n",
       "    <tr>\n",
       "      <th>5</th>\n",
       "      <td>insp7rit</td>\n",
       "      <td>NaN</td>\n",
       "    </tr>\n",
       "    <tr>\n",
       "      <th>6</th>\n",
       "      <td>what is my lifeu</td>\n",
       "      <td>i don't know who to ship her with cause i don'...</td>\n",
       "    </tr>\n",
       "    <tr>\n",
       "      <th>7</th>\n",
       "      <td>Cinthlul</td>\n",
       "      <td>i miss babi</td>\n",
       "    </tr>\n",
       "    <tr>\n",
       "      <th>8</th>\n",
       "      <td>sillybillykitty</td>\n",
       "      <td>For the first time, Woong has a genuinely soft...</td>\n",
       "    </tr>\n",
       "    <tr>\n",
       "      <th>9</th>\n",
       "      <td>sillybillykitty</td>\n",
       "      <td>Got em</td>\n",
       "    </tr>\n",
       "    <tr>\n",
       "      <th>10</th>\n",
       "      <td>jennie_rubyjane</td>\n",
       "      <td>Bcz our precious yumi is getting better and be...</td>\n",
       "    </tr>\n",
       "    <tr>\n",
       "      <th>11</th>\n",
       "      <td>jeonghan ♡</td>\n",
       "      <td>tbh its a little concerning how every sentence...</td>\n",
       "    </tr>\n",
       "    <tr>\n",
       "      <th>12</th>\n",
       "      <td>edyamari martinez</td>\n",
       "      <td>i dont like this, at all</td>\n",
       "    </tr>\n",
       "    <tr>\n",
       "      <th>13</th>\n",
       "      <td>edyamari martinez</td>\n",
       "      <td>it's not! you planned it all</td>\n",
       "    </tr>\n",
       "    <tr>\n",
       "      <th>14</th>\n",
       "      <td>KaitheMadShipper</td>\n",
       "      <td>Me too.</td>\n",
       "    </tr>\n",
       "    <tr>\n",
       "      <th>15</th>\n",
       "      <td>Melissa Anggraini</td>\n",
       "      <td>Yeay... I hope they are back in relationships....</td>\n",
       "    </tr>\n",
       "    <tr>\n",
       "      <th>16</th>\n",
       "      <td>misses12</td>\n",
       "      <td>I don't remember why they broke up</td>\n",
       "    </tr>\n",
       "    <tr>\n",
       "      <th>17</th>\n",
       "      <td>ziallfiezald</td>\n",
       "      <td>my boy's so cute here</td>\n",
       "    </tr>\n",
       "    <tr>\n",
       "      <th>18</th>\n",
       "      <td>JuJu Bean🧝🏾‍♀️🍫💕</td>\n",
       "      <td>He knows food is her weakness</td>\n",
       "    </tr>\n",
       "    <tr>\n",
       "      <th>19</th>\n",
       "      <td>JohnRemi</td>\n",
       "      <td>Remind us again why Hunger is is the shadow pr...</td>\n",
       "    </tr>\n",
       "    <tr>\n",
       "      <th>20</th>\n",
       "      <td>Sandra Alee</td>\n",
       "      <td>God damnit Woong! I'm starting to like you all...</td>\n",
       "    </tr>\n",
       "    <tr>\n",
       "      <th>21</th>\n",
       "      <td>Chocolate_Cookies</td>\n",
       "      <td>Oh no, I cannot go back to Woong and Yumi agai...</td>\n",
       "    </tr>\n",
       "    <tr>\n",
       "      <th>22</th>\n",
       "      <td>KaitheMadShipper</td>\n",
       "      <td>Gasp! Love Cell lost his scar!</td>\n",
       "    </tr>\n",
       "    <tr>\n",
       "      <th>23</th>\n",
       "      <td>insp7rit</td>\n",
       "      <td>NaN</td>\n",
       "    </tr>\n",
       "    <tr>\n",
       "      <th>24</th>\n",
       "      <td>what is my lifeu</td>\n",
       "      <td>i don't know who to ship her with cause i don'...</td>\n",
       "    </tr>\n",
       "    <tr>\n",
       "      <th>25</th>\n",
       "      <td>Cinthlul</td>\n",
       "      <td>i miss babi</td>\n",
       "    </tr>\n",
       "    <tr>\n",
       "      <th>26</th>\n",
       "      <td>sillybillykitty</td>\n",
       "      <td>For the first time, Woong has a genuinely soft...</td>\n",
       "    </tr>\n",
       "    <tr>\n",
       "      <th>27</th>\n",
       "      <td>sillybillykitty</td>\n",
       "      <td>Got em</td>\n",
       "    </tr>\n",
       "    <tr>\n",
       "      <th>28</th>\n",
       "      <td>jennie_rubyjane</td>\n",
       "      <td>Bcz our precious yumi is getting better and be...</td>\n",
       "    </tr>\n",
       "    <tr>\n",
       "      <th>29</th>\n",
       "      <td>jeonghan ♡</td>\n",
       "      <td>tbh its a little concerning how every sentence...</td>\n",
       "    </tr>\n",
       "    <tr>\n",
       "      <th>30</th>\n",
       "      <td>edyamari martinez</td>\n",
       "      <td>i dont like this, at all</td>\n",
       "    </tr>\n",
       "    <tr>\n",
       "      <th>31</th>\n",
       "      <td>edyamari martinez</td>\n",
       "      <td>it's not! you planned it all</td>\n",
       "    </tr>\n",
       "    <tr>\n",
       "      <th>32</th>\n",
       "      <td>KaitheMadShipper</td>\n",
       "      <td>Me too.</td>\n",
       "    </tr>\n",
       "    <tr>\n",
       "      <th>33</th>\n",
       "      <td>Melissa Anggraini</td>\n",
       "      <td>Yeay... I hope they are back in relationships....</td>\n",
       "    </tr>\n",
       "    <tr>\n",
       "      <th>34</th>\n",
       "      <td>misses12</td>\n",
       "      <td>I don't remember why they broke up</td>\n",
       "    </tr>\n",
       "    <tr>\n",
       "      <th>35</th>\n",
       "      <td>ziallfiezald</td>\n",
       "      <td>my boy's so cute here</td>\n",
       "    </tr>\n",
       "  </tbody>\n",
       "</table>\n",
       "</div>"
      ],
      "text/plain": [
       "                Users                                           Comments\n",
       "0    JuJu Bean🧝🏾‍♀️🍫💕                     He knows food is her weakness \n",
       "1            JohnRemi  Remind us again why Hunger is is the shadow pr...\n",
       "2         Sandra Alee  God damnit Woong! I'm starting to like you all...\n",
       "3   Chocolate_Cookies  Oh no, I cannot go back to Woong and Yumi agai...\n",
       "4    KaitheMadShipper                    Gasp! Love Cell lost his scar! \n",
       "5            insp7rit                                                NaN\n",
       "6    what is my lifeu  i don't know who to ship her with cause i don'...\n",
       "7            Cinthlul                                       i miss babi \n",
       "8     sillybillykitty  For the first time, Woong has a genuinely soft...\n",
       "9     sillybillykitty                                             Got em\n",
       "10    jennie_rubyjane  Bcz our precious yumi is getting better and be...\n",
       "11         jeonghan ♡  tbh its a little concerning how every sentence...\n",
       "12  edyamari martinez                           i dont like this, at all\n",
       "13  edyamari martinez                       it's not! you planned it all\n",
       "14   KaitheMadShipper                                           Me too. \n",
       "15  Melissa Anggraini  Yeay... I hope they are back in relationships....\n",
       "16           misses12                I don't remember why they broke up \n",
       "17       ziallfiezald                              my boy's so cute here\n",
       "18   JuJu Bean🧝🏾‍♀️🍫💕                     He knows food is her weakness \n",
       "19           JohnRemi  Remind us again why Hunger is is the shadow pr...\n",
       "20        Sandra Alee  God damnit Woong! I'm starting to like you all...\n",
       "21  Chocolate_Cookies  Oh no, I cannot go back to Woong and Yumi agai...\n",
       "22   KaitheMadShipper                    Gasp! Love Cell lost his scar! \n",
       "23           insp7rit                                                NaN\n",
       "24   what is my lifeu  i don't know who to ship her with cause i don'...\n",
       "25           Cinthlul                                       i miss babi \n",
       "26    sillybillykitty  For the first time, Woong has a genuinely soft...\n",
       "27    sillybillykitty                                             Got em\n",
       "28    jennie_rubyjane  Bcz our precious yumi is getting better and be...\n",
       "29         jeonghan ♡  tbh its a little concerning how every sentence...\n",
       "30  edyamari martinez                           i dont like this, at all\n",
       "31  edyamari martinez                       it's not! you planned it all\n",
       "32   KaitheMadShipper                                           Me too. \n",
       "33  Melissa Anggraini  Yeay... I hope they are back in relationships....\n",
       "34           misses12                I don't remember why they broke up \n",
       "35       ziallfiezald                              my boy's so cute here"
      ]
     },
     "execution_count": 28,
     "metadata": {},
     "output_type": "execute_result"
    }
   ],
   "source": [
    "pd.read_csv('wt_comments.csv')"
   ]
  },
  {
   "cell_type": "code",
   "execution_count": 254,
   "metadata": {},
   "outputs": [],
   "source": [
    "i = driver.find_elements_by_class_name('u_cbox_num_page')"
   ]
  },
  {
   "cell_type": "code",
   "execution_count": 29,
   "metadata": {},
   "outputs": [],
   "source": [
    "def refresh_page(j):\n",
    "    i = driver.find_elements_by_class_name('u_cbox_num_page')\n",
    "    i[j].click()\n",
    "    if j != 0:\n",
    "        return refresh_page(j-1)"
   ]
  },
  {
   "cell_type": "code",
   "execution_count": 32,
   "metadata": {
    "scrolled": true
   },
   "outputs": [
    {
     "name": "stdout",
     "output_type": "stream",
     "text": [
      "JuJu Bean🧝🏾‍♀️🍫💕 He knows food is her weakness\n",
      "JohnRemi Remind us again why Hunger is is the shadow prime cell.he secretly controlled Yumi from darkness\n",
      "Sandra Alee God damnit Woong! I'm starting to like you all over again!\n",
      "Chocolate_Cookies Oh no, I cannot go back to Woong and Yumi again. Yumi deserves better.\n",
      "KaitheMadShipper Gasp! Love Cell lost his scar!\n",
      "insp7rit \n",
      "what is my lifeu i don't know who to ship her with cause i don't want her to get hurt....\n",
      "Cinthlul i miss babi\n",
      "sillybillykitty For the first time, Woong has a genuinely soft look on his face in front of Yumi❤️\n",
      "sillybillykitty Got em\n",
      "jennie_rubyjane Bcz our precious yumi is getting better and better!\n",
      "jeonghan ♡ tbh its a little concerning how every sentence he says has an ulterior motive or hidden meaning\n",
      "edyamari martinez i dont like this, at all\n",
      "edyamari martinez it's not! you planned it all\n",
      "KaitheMadShipper Me too.\n",
      "Melissa Anggraini Yeay... I hope they are back in relationships... I cried when reading they broke up ...\n",
      "misses12 I don't remember why they broke up\n",
      "ziallfiezald my boy's so cute here\n"
     ]
    },
    {
     "ename": "AttributeError",
     "evalue": "'list' object has no attribute 'click'",
     "output_type": "error",
     "traceback": [
      "\u001b[0;31m---------------------------------------------------------------------------\u001b[0m",
      "\u001b[0;31mAttributeError\u001b[0m                            Traceback (most recent call last)",
      "\u001b[0;32m<ipython-input-32-dade8dcd90a6>\u001b[0m in \u001b[0;36m<module>\u001b[0;34m\u001b[0m\n\u001b[1;32m      4\u001b[0m         \u001b[0mi\u001b[0m\u001b[0;34m[\u001b[0m\u001b[0mj\u001b[0m\u001b[0;34m]\u001b[0m\u001b[0;34m.\u001b[0m\u001b[0mclick\u001b[0m\u001b[0;34m(\u001b[0m\u001b[0;34m)\u001b[0m\u001b[0;34m\u001b[0m\u001b[0;34m\u001b[0m\u001b[0m\n\u001b[1;32m      5\u001b[0m     \u001b[0;32melse\u001b[0m\u001b[0;34m:\u001b[0m\u001b[0;34m\u001b[0m\u001b[0;34m\u001b[0m\u001b[0m\n\u001b[0;32m----> 6\u001b[0;31m         \u001b[0mi\u001b[0m\u001b[0;34m[\u001b[0m\u001b[0mj\u001b[0m\u001b[0;34m]\u001b[0m\u001b[0;34m.\u001b[0m\u001b[0mfind_elements_by_class_name\u001b[0m\u001b[0;34m(\u001b[0m\u001b[0;34m'u_cbox_num_page'\u001b[0m\u001b[0;34m)\u001b[0m\u001b[0;34m.\u001b[0m\u001b[0mclick\u001b[0m\u001b[0;34m(\u001b[0m\u001b[0;34m)\u001b[0m\u001b[0;34m\u001b[0m\u001b[0;34m\u001b[0m\u001b[0m\n\u001b[0m\u001b[1;32m      7\u001b[0m     \u001b[0muse\u001b[0m \u001b[0;34m=\u001b[0m \u001b[0mdriver\u001b[0m\u001b[0;34m.\u001b[0m\u001b[0mfind_elements_by_class_name\u001b[0m\u001b[0;34m(\u001b[0m\u001b[0;34m'u_cbox_nick'\u001b[0m\u001b[0;34m)\u001b[0m\u001b[0;34m\u001b[0m\u001b[0;34m\u001b[0m\u001b[0m\n\u001b[1;32m      8\u001b[0m     \u001b[0mcom\u001b[0m \u001b[0;34m=\u001b[0m \u001b[0mdriver\u001b[0m\u001b[0;34m.\u001b[0m\u001b[0mfind_elements_by_class_name\u001b[0m\u001b[0;34m(\u001b[0m\u001b[0;34m'u_cbox_contents'\u001b[0m\u001b[0;34m)\u001b[0m\u001b[0;34m\u001b[0m\u001b[0;34m\u001b[0m\u001b[0m\n",
      "\u001b[0;31mAttributeError\u001b[0m: 'list' object has no attribute 'click'"
     ]
    }
   ],
   "source": [
    "for j in range(len(i)):\n",
    "    if j == 0 : \n",
    "        i = driver.find_elements_by_class_name('u_cbox_num_page')\n",
    "        i[j].click()\n",
    "    else:\n",
    "        i[j].find_elements_by_class_name('u_cbox_num_page').click()\n",
    "    use = driver.find_elements_by_class_name('u_cbox_nick')\n",
    "    com = driver.find_elements_by_class_name('u_cbox_contents')\n",
    "    for u,c in zip(use,com):\n",
    "        print(u.text, c.text)"
   ]
  },
  {
   "cell_type": "code",
   "execution_count": 290,
   "metadata": {},
   "outputs": [],
   "source": [
    "i = driver.find_elements_by_class_name('u_cbox_num_page')\n",
    "i[0].click()"
   ]
  },
  {
   "cell_type": "code",
   "execution_count": 267,
   "metadata": {
    "scrolled": true
   },
   "outputs": [
    {
     "name": "stdout",
     "output_type": "stream",
     "text": [
      "Brandon Gayle and as they left swole boi steps up\"MUSCLE!!!!\"\n",
      "Russ Reimroc anyone think that the suicide date is foreshadowing? like maybe they actually will die? edit: spelling\n",
      "mrbadd98 everything's good till Mr Thomas the tank steps in front of them.\n",
      "Brytroklos what favor? The suspense is killing meeeeeeee!!!!!!!!!\n",
      "Natasha Joy Vergara And then Thomas song starts\n",
      "fuzzyfur99 lool her face when someone did show up\n",
      "Silver_Moonshine “Staying alive Staying alive ah ah ah”\n",
      "'Sup BOI. ''I need you to do me a favour when we come back.'' I wonder what it is ( ͡° ͜ʖ ͡°)( ͡° ͜ʖ ͡°)\n",
      "MoonYouRIL jj\n",
      "akaneee1415 ooh hOw iRonIc\n",
      "Nugget_mkm im scared\n",
      "Nugget_mkm when he was like whois the real monster u or me i felt like in that other dude head he was like yea its steal u\n",
      "Book Knight I am starting to like the woman\n",
      "jesstae character development! i am so proud of our boy.\n",
      "Pokemanz_Master everybody gansta til \"PROTEIN\"\n",
      "Jinks1433 ITS BECAUSE OF YOUR BEAUTIFUL CHARACTER DEVELOPMENT YOU BEAUTIFUL CHILD\n",
      "🌱Sprouty🌱Root🌱 yes, but what about p r o t e i n b o i\n",
      "cheeeeeeeese they’re gonna run out of fuel i swear\n"
     ]
    }
   ],
   "source": [
    "    use = driver.find_elements_by_class_name('u_cbox_nick')\n",
    "    com = driver.find_elements_by_class_name('u_cbox_contents')\n",
    "    for u,c in zip(use,com):\n",
    "        print(u.text, c.text)"
   ]
  },
  {
   "cell_type": "code",
   "execution_count": 269,
   "metadata": {},
   "outputs": [],
   "source": [
    "i = driver.find_elements_by_class_name('u_cbox_num_page')\n",
    "i[1].click()"
   ]
  },
  {
   "cell_type": "code",
   "execution_count": 270,
   "metadata": {
    "scrolled": false
   },
   "outputs": [
    {
     "name": "stdout",
     "output_type": "stream",
     "text": [
      "winterheart10 His suicide date was my birth date though, I am still finding that funny in a way-\n",
      "CrystaCat You know, Ive personally been through some... well say rough times... and Hyun... is really... so relatable. Its nice. He is pretty inspiringz\n",
      "Wyatt Smith I'm waiting for Thomas the tank to bust out his steroids and whoop same arse\n",
      "fire gaming12 He said that she was a goddess then later revealed he only loves his waifu\n",
      "PikaPikatrue I SHIP HYISU ALL THE WAY HONEY BOOBOO\n",
      "Sakiko arts I have a feeling Thomas is gonna be like \"SURPRISE MOTHERFUCKERS\"\n",
      "☆Bunini_Saii03♤ weird how im not even in that car and even i am scared of what's to come...booze wouldn't help me\n",
      "kongychamp bird box whO\n",
      "Loretts Anyone else confused by the start of this episode?\n",
      "FatLouise that car is waiting to create havoc or become havoc\n",
      "insomnia4 am I the only one who calls biseps Muscle Man\n",
      "mango•heart October 24 that’s two days after my birthday\n",
      "jimin•army•limelight i vote jisu for leader nobody asks and i doubt anyone cares but nerd dude can go suck my toe cuz he’s a butt\n",
      "Wisdom Koyn Mincey Ayyyye\n",
      "𝐃𝐨𝐨𝐝𝐞𝐭t𝐞♛ I’m thinking that Thomas The Tank Engine is gonna make a jumpscare, w/ his new n improved upgrade\n"
     ]
    }
   ],
   "source": [
    "    use = driver.find_elements_by_class_name('u_cbox_nick')\n",
    "    com = driver.find_elements_by_class_name('u_cbox_contents')\n",
    "    for u,c in zip(use,com):\n",
    "        print(u.text, c.text)"
   ]
  },
  {
   "cell_type": "code",
   "execution_count": 272,
   "metadata": {},
   "outputs": [],
   "source": [
    "i = driver.find_elements_by_class_name('u_cbox_num_page')\n",
    "i[2].click()"
   ]
  },
  {
   "cell_type": "code",
   "execution_count": 273,
   "metadata": {
    "scrolled": false
   },
   "outputs": [
    {
     "name": "stdout",
     "output_type": "stream",
     "text": [
      "Yuki.Maru The Lady who was cheered looked so cute tbh XD\n",
      "brob138 they forgot the tape on his glasses\n",
      "jell_bell I’m so ready to see what the outside world looks like\n",
      "m3b0-kun soon after leaving, scrub daddy lookin mf charges at their vehicle\n",
      "Abbie Storm You guys do realize that Yuri could die..\n",
      "gebbykurta aw my baby hyun :< ♡\n",
      "Cliché Jimin Stan \"The buttons on both sides of the steering wheel will activate the left and right flamethrowers\" that is the most badass thing I've read today\n",
      "amnosia hey I was thinking, shouldn't the stores have emergency epipens? or like daycares nearby or in a first aid kit? with how common allergies and such things are? the hospital is probably crawling with creatures and it's probably been looted some before those creatures made their home there.\n",
      "#Anime Life October 24th is my birthday\n",
      "Kathy Vallejo Yeah some actual color blue sky\n",
      "Punit shukal PRO.. ....TIEN\n",
      "Hikskun there is no need to keep bringing up the cold nature of glasses guy. the redundant conversations and dialogues are ruining any type of tension being built.\n",
      "Mercurywonders did I just saw a glance of murzz's hair bun?\n",
      "Blue Zab Star Star OCTOBER 24 IS MY BIRTHDAY\n",
      "Karina Skavinski NUUUU, the little children.... they probably look up to her! they don't want her to leeeeave.. it is so sad..\n"
     ]
    }
   ],
   "source": [
    "    use = driver.find_elements_by_class_name('u_cbox_nick')\n",
    "    com = driver.find_elements_by_class_name('u_cbox_contents')\n",
    "    for u,c in zip(use,com):\n",
    "        print(u.text, c.text)"
   ]
  },
  {
   "cell_type": "code",
   "execution_count": 275,
   "metadata": {},
   "outputs": [],
   "source": [
    "i = driver.find_elements_by_class_name('u_cbox_num_page')\n",
    "i[3].click()"
   ]
  },
  {
   "cell_type": "code",
   "execution_count": 276,
   "metadata": {
    "scrolled": false
   },
   "outputs": [
    {
     "name": "stdout",
     "output_type": "stream",
     "text": [
      "BLU3M00N On October 24th : They leave that place.On October 24th : It's my birthday(sorry If I've made any mistakes...I'm French)\n",
      "Mick Prince I'm laughing so hard... Wook really loves his woman... lol. Getting all worked up like that for Yuri... so adorable.\n",
      "funreads❣️ progress\n",
      "Fujoshi1024 Well, October 24 is my birthday! Don't die on my birthday guys! hahhahaa\n",
      "Carrot juice I’m literally having a heart attack, Why?\n",
      "Mid_NightFantasy now that i know that its still oct in the manga. i remember that oct is almost coming so im gonna turn 16 and that sucks. T-T\n",
      "A major weeb A smiling Hyun is always a gud Hyun. Also, what is it that Jisu wants Hyun to do when he comes back? I'm pretty sure that it might be something that could increase character development, their friendship, or maybe the ship that most of us want. I'm really excited to see what she asks of him after he comes back, #JisuN\n",
      "Miss mess the character development ... :') I'm touched\n",
      "٩( ᐛ )وClobob Oh my gosh, my birthday is October 24th;-;\n",
      "Daniel Mathews that is someone with a lot of conviction right there in so glad he has changed into a brave soul\n",
      "Lin-Sama *Thomas the Dank Engine joins chat*\n",
      "Nyka likes Cookies I’m just sitting imagining how bad that room must smell at this point.\n",
      "baxon October 24th is my bday lol\n",
      "CristinaMishi October 24th is my mom's birthday!!!\n",
      "R U B Y. \"COME BACK IN ONE PIECE\" AHHHHH YHE DOJQJFBWOFJQKDXKSLGBA\n"
     ]
    }
   ],
   "source": [
    "    use = driver.find_elements_by_class_name('u_cbox_nick')\n",
    "    com = driver.find_elements_by_class_name('u_cbox_contents')\n",
    "    for u,c in zip(use,com):\n",
    "        print(u.text, c.text)"
   ]
  },
  {
   "cell_type": "code",
   "execution_count": null,
   "metadata": {},
   "outputs": [],
   "source": []
  },
  {
   "cell_type": "code",
   "execution_count": null,
   "metadata": {},
   "outputs": [],
   "source": []
  },
  {
   "cell_type": "code",
   "execution_count": null,
   "metadata": {},
   "outputs": [],
   "source": []
  },
  {
   "cell_type": "code",
   "execution_count": 294,
   "metadata": {},
   "outputs": [
    {
     "ename": "NoSuchWindowException",
     "evalue": "Message: no such window: target window already closed\nfrom unknown error: web view not found\n  (Session info: chrome=76.0.3809.87)\n",
     "output_type": "error",
     "traceback": [
      "\u001b[0;31m---------------------------------------------------------------------------\u001b[0m",
      "\u001b[0;31mNoSuchWindowException\u001b[0m                     Traceback (most recent call last)",
      "\u001b[0;32m<ipython-input-294-ad0c9a213c39>\u001b[0m in \u001b[0;36m<module>\u001b[0;34m\u001b[0m\n\u001b[0;32m----> 1\u001b[0;31m \u001b[0mdriver\u001b[0m\u001b[0;34m.\u001b[0m\u001b[0mclose\u001b[0m\u001b[0;34m(\u001b[0m\u001b[0;34m)\u001b[0m\u001b[0;34m\u001b[0m\u001b[0;34m\u001b[0m\u001b[0m\n\u001b[0m",
      "\u001b[0;32m~/anaconda3/lib/python3.7/site-packages/selenium/webdriver/remote/webdriver.py\u001b[0m in \u001b[0;36mclose\u001b[0;34m(self)\u001b[0m\n\u001b[1;32m    686\u001b[0m             \u001b[0mdriver\u001b[0m\u001b[0;34m.\u001b[0m\u001b[0mclose\u001b[0m\u001b[0;34m(\u001b[0m\u001b[0;34m)\u001b[0m\u001b[0;34m\u001b[0m\u001b[0;34m\u001b[0m\u001b[0m\n\u001b[1;32m    687\u001b[0m         \"\"\"\n\u001b[0;32m--> 688\u001b[0;31m         \u001b[0mself\u001b[0m\u001b[0;34m.\u001b[0m\u001b[0mexecute\u001b[0m\u001b[0;34m(\u001b[0m\u001b[0mCommand\u001b[0m\u001b[0;34m.\u001b[0m\u001b[0mCLOSE\u001b[0m\u001b[0;34m)\u001b[0m\u001b[0;34m\u001b[0m\u001b[0;34m\u001b[0m\u001b[0m\n\u001b[0m\u001b[1;32m    689\u001b[0m \u001b[0;34m\u001b[0m\u001b[0m\n\u001b[1;32m    690\u001b[0m     \u001b[0;32mdef\u001b[0m \u001b[0mquit\u001b[0m\u001b[0;34m(\u001b[0m\u001b[0mself\u001b[0m\u001b[0;34m)\u001b[0m\u001b[0;34m:\u001b[0m\u001b[0;34m\u001b[0m\u001b[0;34m\u001b[0m\u001b[0m\n",
      "\u001b[0;32m~/anaconda3/lib/python3.7/site-packages/selenium/webdriver/remote/webdriver.py\u001b[0m in \u001b[0;36mexecute\u001b[0;34m(self, driver_command, params)\u001b[0m\n\u001b[1;32m    319\u001b[0m         \u001b[0mresponse\u001b[0m \u001b[0;34m=\u001b[0m \u001b[0mself\u001b[0m\u001b[0;34m.\u001b[0m\u001b[0mcommand_executor\u001b[0m\u001b[0;34m.\u001b[0m\u001b[0mexecute\u001b[0m\u001b[0;34m(\u001b[0m\u001b[0mdriver_command\u001b[0m\u001b[0;34m,\u001b[0m \u001b[0mparams\u001b[0m\u001b[0;34m)\u001b[0m\u001b[0;34m\u001b[0m\u001b[0;34m\u001b[0m\u001b[0m\n\u001b[1;32m    320\u001b[0m         \u001b[0;32mif\u001b[0m \u001b[0mresponse\u001b[0m\u001b[0;34m:\u001b[0m\u001b[0;34m\u001b[0m\u001b[0;34m\u001b[0m\u001b[0m\n\u001b[0;32m--> 321\u001b[0;31m             \u001b[0mself\u001b[0m\u001b[0;34m.\u001b[0m\u001b[0merror_handler\u001b[0m\u001b[0;34m.\u001b[0m\u001b[0mcheck_response\u001b[0m\u001b[0;34m(\u001b[0m\u001b[0mresponse\u001b[0m\u001b[0;34m)\u001b[0m\u001b[0;34m\u001b[0m\u001b[0;34m\u001b[0m\u001b[0m\n\u001b[0m\u001b[1;32m    322\u001b[0m             response['value'] = self._unwrap_value(\n\u001b[1;32m    323\u001b[0m                 response.get('value', None))\n",
      "\u001b[0;32m~/anaconda3/lib/python3.7/site-packages/selenium/webdriver/remote/errorhandler.py\u001b[0m in \u001b[0;36mcheck_response\u001b[0;34m(self, response)\u001b[0m\n\u001b[1;32m    240\u001b[0m                 \u001b[0malert_text\u001b[0m \u001b[0;34m=\u001b[0m \u001b[0mvalue\u001b[0m\u001b[0;34m[\u001b[0m\u001b[0;34m'alert'\u001b[0m\u001b[0;34m]\u001b[0m\u001b[0;34m.\u001b[0m\u001b[0mget\u001b[0m\u001b[0;34m(\u001b[0m\u001b[0;34m'text'\u001b[0m\u001b[0;34m)\u001b[0m\u001b[0;34m\u001b[0m\u001b[0;34m\u001b[0m\u001b[0m\n\u001b[1;32m    241\u001b[0m             \u001b[0;32mraise\u001b[0m \u001b[0mexception_class\u001b[0m\u001b[0;34m(\u001b[0m\u001b[0mmessage\u001b[0m\u001b[0;34m,\u001b[0m \u001b[0mscreen\u001b[0m\u001b[0;34m,\u001b[0m \u001b[0mstacktrace\u001b[0m\u001b[0;34m,\u001b[0m \u001b[0malert_text\u001b[0m\u001b[0;34m)\u001b[0m\u001b[0;34m\u001b[0m\u001b[0;34m\u001b[0m\u001b[0m\n\u001b[0;32m--> 242\u001b[0;31m         \u001b[0;32mraise\u001b[0m \u001b[0mexception_class\u001b[0m\u001b[0;34m(\u001b[0m\u001b[0mmessage\u001b[0m\u001b[0;34m,\u001b[0m \u001b[0mscreen\u001b[0m\u001b[0;34m,\u001b[0m \u001b[0mstacktrace\u001b[0m\u001b[0;34m)\u001b[0m\u001b[0;34m\u001b[0m\u001b[0;34m\u001b[0m\u001b[0m\n\u001b[0m\u001b[1;32m    243\u001b[0m \u001b[0;34m\u001b[0m\u001b[0m\n\u001b[1;32m    244\u001b[0m     \u001b[0;32mdef\u001b[0m \u001b[0m_value_or_default\u001b[0m\u001b[0;34m(\u001b[0m\u001b[0mself\u001b[0m\u001b[0;34m,\u001b[0m \u001b[0mobj\u001b[0m\u001b[0;34m,\u001b[0m \u001b[0mkey\u001b[0m\u001b[0;34m,\u001b[0m \u001b[0mdefault\u001b[0m\u001b[0;34m)\u001b[0m\u001b[0;34m:\u001b[0m\u001b[0;34m\u001b[0m\u001b[0;34m\u001b[0m\u001b[0m\n",
      "\u001b[0;31mNoSuchWindowException\u001b[0m: Message: no such window: target window already closed\nfrom unknown error: web view not found\n  (Session info: chrome=76.0.3809.87)\n"
     ]
    }
   ],
   "source": [
    "driver.close()"
   ]
  },
  {
   "cell_type": "code",
   "execution_count": null,
   "metadata": {},
   "outputs": [],
   "source": []
  }
 ],
 "metadata": {
  "kernelspec": {
   "display_name": "Python 3",
   "language": "python",
   "name": "python3"
  },
  "language_info": {
   "codemirror_mode": {
    "name": "ipython",
    "version": 3
   },
   "file_extension": ".py",
   "mimetype": "text/x-python",
   "name": "python",
   "nbconvert_exporter": "python",
   "pygments_lexer": "ipython3",
   "version": "3.7.1"
  }
 },
 "nbformat": 4,
 "nbformat_minor": 2
}
