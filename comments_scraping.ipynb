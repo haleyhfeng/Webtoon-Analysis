{
 "cells": [
  {
   "cell_type": "code",
   "execution_count": 1,
   "metadata": {},
   "outputs": [],
   "source": [
    "import requests\n",
    "from urllib.request import urlopen\n",
    "from bs4 import BeautifulSoup\n",
    "from selenium import webdriver\n",
    "\n",
    "import os\n",
    "import time\n",
    "\n",
    "import numpy as np\n",
    "import pandas as pd\n",
    "import csv"
   ]
  },
  {
   "cell_type": "markdown",
   "metadata": {},
   "source": [
    "$Sweet Home$"
   ]
  },
  {
   "cell_type": "code",
   "execution_count": 264,
   "metadata": {},
   "outputs": [],
   "source": [
    "chromedriver = \"/Users/haley/Desktop/chromedriver\"\n",
    "os.environ[\"webdriver.chrome.driver\"] = chromedriver\n",
    "driver = webdriver.Chrome(chromedriver)\n",
    "driver.get('https://www.webtoons.com/en/thriller/sweethome/ep-79/viewer?title_no=1285&episode_no=80')\n",
    "time.sleep(5)\n",
    "html = driver.page_source\n"
   ]
  },
  {
   "cell_type": "code",
   "execution_count": null,
   "metadata": {},
   "outputs": [],
   "source": [
    "soup = BeautifulSoup(html, 'lxml')\n",
    "user = soup.find_all(class_= 'u_cbox_nick')\n",
    "comment = soup.find_all('span', class_='u_cbox_contents')"
   ]
  },
  {
   "cell_type": "code",
   "execution_count": null,
   "metadata": {
    "scrolled": true
   },
   "outputs": [],
   "source": [
    "wt_comments = csv.writer(open('wt_comments.csv', 'w')) # Created csv file\n",
    "wt_comments.writerow(['Users', 'Comments'])"
   ]
  },
  {
   "cell_type": "code",
   "execution_count": null,
   "metadata": {},
   "outputs": [],
   "source": [
    "for u,c in zip(user, comment):\n",
    "    users = u.text\n",
    "    comments = c.text\n",
    "    wt_comments.writerow([users, comments]) "
   ]
  },
  {
   "cell_type": "code",
   "execution_count": null,
   "metadata": {
    "scrolled": true
   },
   "outputs": [],
   "source": [
    "pd.read_csv('wt_comments.csv')"
   ]
  },
  {
   "cell_type": "code",
   "execution_count": 254,
   "metadata": {},
   "outputs": [],
   "source": [
    "    i = driver.find_elements_by_class_name('u_cbox_num_page')\n"
   ]
  },
  {
   "cell_type": "code",
   "execution_count": 286,
   "metadata": {},
   "outputs": [],
   "source": [
    "def refresh_page(j):\n",
    "    i = driver.find_elements_by_class_name('u_cbox_num_page')\n",
    "    i[j].click()\n",
    "    if j != 0:\n",
    "        return refresh_page(j-1)"
   ]
  },
  {
   "cell_type": "code",
   "execution_count": 293,
   "metadata": {
    "scrolled": true
   },
   "outputs": [
    {
     "name": "stdout",
     "output_type": "stream",
     "text": [
      "Brandon Gayle and as they left swole boi steps up\"MUSCLE!!!!\"\n",
      "Russ Reimroc anyone think that the suicide date is foreshadowing? like maybe they actually will die? edit: spelling\n",
      "mrbadd98 everything's good till Mr Thomas the tank steps in front of them.\n",
      "Brytroklos what favor? The suspense is killing meeeeeeee!!!!!!!!!\n",
      "Natasha Joy Vergara And then Thomas song starts\n",
      "fuzzyfur99 lool her face when someone did show up\n",
      "Silver_Moonshine “Staying alive Staying alive ah ah ah”\n",
      "'Sup BOI. ''I need you to do me a favour when we come back.'' I wonder what it is ( ͡° ͜ʖ ͡°)( ͡° ͜ʖ ͡°)\n",
      "MoonYouRIL jj\n",
      "akaneee1415 ooh hOw iRonIc\n",
      "Nugget_mkm im scared\n",
      "Nugget_mkm when he was like whois the real monster u or me i felt like in that other dude head he was like yea its steal u\n",
      "Book Knight I am starting to like the woman\n",
      "jesstae character development! i am so proud of our boy.\n",
      "Pokemanz_Master everybody gansta til \"PROTEIN\"\n",
      "Jinks1433 ITS BECAUSE OF YOUR BEAUTIFUL CHARACTER DEVELOPMENT YOU BEAUTIFUL CHILD\n",
      "🌱Sprouty🌱Root🌱 yes, but what about p r o t e i n b o i\n",
      "cheeeeeeeese they’re gonna run out of fuel i swear\n"
     ]
    },
    {
     "ename": "AttributeError",
     "evalue": "'list' object has no attribute 'click'",
     "output_type": "error",
     "traceback": [
      "\u001b[0;31m---------------------------------------------------------------------------\u001b[0m",
      "\u001b[0;31mAttributeError\u001b[0m                            Traceback (most recent call last)",
      "\u001b[0;32m<ipython-input-293-dade8dcd90a6>\u001b[0m in \u001b[0;36m<module>\u001b[0;34m\u001b[0m\n\u001b[1;32m      4\u001b[0m         \u001b[0mi\u001b[0m\u001b[0;34m[\u001b[0m\u001b[0mj\u001b[0m\u001b[0;34m]\u001b[0m\u001b[0;34m.\u001b[0m\u001b[0mclick\u001b[0m\u001b[0;34m(\u001b[0m\u001b[0;34m)\u001b[0m\u001b[0;34m\u001b[0m\u001b[0;34m\u001b[0m\u001b[0m\n\u001b[1;32m      5\u001b[0m     \u001b[0;32melse\u001b[0m\u001b[0;34m:\u001b[0m\u001b[0;34m\u001b[0m\u001b[0;34m\u001b[0m\u001b[0m\n\u001b[0;32m----> 6\u001b[0;31m         \u001b[0mi\u001b[0m\u001b[0;34m[\u001b[0m\u001b[0mj\u001b[0m\u001b[0;34m]\u001b[0m\u001b[0;34m.\u001b[0m\u001b[0mfind_elements_by_class_name\u001b[0m\u001b[0;34m(\u001b[0m\u001b[0;34m'u_cbox_num_page'\u001b[0m\u001b[0;34m)\u001b[0m\u001b[0;34m.\u001b[0m\u001b[0mclick\u001b[0m\u001b[0;34m(\u001b[0m\u001b[0;34m)\u001b[0m\u001b[0;34m\u001b[0m\u001b[0;34m\u001b[0m\u001b[0m\n\u001b[0m\u001b[1;32m      7\u001b[0m     \u001b[0muse\u001b[0m \u001b[0;34m=\u001b[0m \u001b[0mdriver\u001b[0m\u001b[0;34m.\u001b[0m\u001b[0mfind_elements_by_class_name\u001b[0m\u001b[0;34m(\u001b[0m\u001b[0;34m'u_cbox_nick'\u001b[0m\u001b[0;34m)\u001b[0m\u001b[0;34m\u001b[0m\u001b[0;34m\u001b[0m\u001b[0m\n\u001b[1;32m      8\u001b[0m     \u001b[0mcom\u001b[0m \u001b[0;34m=\u001b[0m \u001b[0mdriver\u001b[0m\u001b[0;34m.\u001b[0m\u001b[0mfind_elements_by_class_name\u001b[0m\u001b[0;34m(\u001b[0m\u001b[0;34m'u_cbox_contents'\u001b[0m\u001b[0;34m)\u001b[0m\u001b[0;34m\u001b[0m\u001b[0;34m\u001b[0m\u001b[0m\n",
      "\u001b[0;31mAttributeError\u001b[0m: 'list' object has no attribute 'click'"
     ]
    }
   ],
   "source": [
    "for j in range(len(i)):\n",
    "    if j == 0 : \n",
    "        i = driver.find_elements_by_class_name('u_cbox_num_page')\n",
    "        i[j].click()\n",
    "    else:\n",
    "        i[j].find_elements_by_class_name('u_cbox_num_page').click()\n",
    "    use = driver.find_elements_by_class_name('u_cbox_nick')\n",
    "    com = driver.find_elements_by_class_name('u_cbox_contents')\n",
    "    for u,c in zip(use,com):\n",
    "        print(u.text, c.text)"
   ]
  },
  {
   "cell_type": "code",
   "execution_count": 290,
   "metadata": {},
   "outputs": [],
   "source": [
    "i = driver.find_elements_by_class_name('u_cbox_num_page')\n",
    "i[0].click()"
   ]
  },
  {
   "cell_type": "code",
   "execution_count": 267,
   "metadata": {
    "scrolled": true
   },
   "outputs": [
    {
     "name": "stdout",
     "output_type": "stream",
     "text": [
      "Brandon Gayle and as they left swole boi steps up\"MUSCLE!!!!\"\n",
      "Russ Reimroc anyone think that the suicide date is foreshadowing? like maybe they actually will die? edit: spelling\n",
      "mrbadd98 everything's good till Mr Thomas the tank steps in front of them.\n",
      "Brytroklos what favor? The suspense is killing meeeeeeee!!!!!!!!!\n",
      "Natasha Joy Vergara And then Thomas song starts\n",
      "fuzzyfur99 lool her face when someone did show up\n",
      "Silver_Moonshine “Staying alive Staying alive ah ah ah”\n",
      "'Sup BOI. ''I need you to do me a favour when we come back.'' I wonder what it is ( ͡° ͜ʖ ͡°)( ͡° ͜ʖ ͡°)\n",
      "MoonYouRIL jj\n",
      "akaneee1415 ooh hOw iRonIc\n",
      "Nugget_mkm im scared\n",
      "Nugget_mkm when he was like whois the real monster u or me i felt like in that other dude head he was like yea its steal u\n",
      "Book Knight I am starting to like the woman\n",
      "jesstae character development! i am so proud of our boy.\n",
      "Pokemanz_Master everybody gansta til \"PROTEIN\"\n",
      "Jinks1433 ITS BECAUSE OF YOUR BEAUTIFUL CHARACTER DEVELOPMENT YOU BEAUTIFUL CHILD\n",
      "🌱Sprouty🌱Root🌱 yes, but what about p r o t e i n b o i\n",
      "cheeeeeeeese they’re gonna run out of fuel i swear\n"
     ]
    }
   ],
   "source": [
    "    use = driver.find_elements_by_class_name('u_cbox_nick')\n",
    "    com = driver.find_elements_by_class_name('u_cbox_contents')\n",
    "    for u,c in zip(use,com):\n",
    "        print(u.text, c.text)"
   ]
  },
  {
   "cell_type": "code",
   "execution_count": 269,
   "metadata": {},
   "outputs": [],
   "source": [
    "i = driver.find_elements_by_class_name('u_cbox_num_page')\n",
    "i[1].click()"
   ]
  },
  {
   "cell_type": "code",
   "execution_count": 270,
   "metadata": {
    "scrolled": false
   },
   "outputs": [
    {
     "name": "stdout",
     "output_type": "stream",
     "text": [
      "winterheart10 His suicide date was my birth date though, I am still finding that funny in a way-\n",
      "CrystaCat You know, Ive personally been through some... well say rough times... and Hyun... is really... so relatable. Its nice. He is pretty inspiringz\n",
      "Wyatt Smith I'm waiting for Thomas the tank to bust out his steroids and whoop same arse\n",
      "fire gaming12 He said that she was a goddess then later revealed he only loves his waifu\n",
      "PikaPikatrue I SHIP HYISU ALL THE WAY HONEY BOOBOO\n",
      "Sakiko arts I have a feeling Thomas is gonna be like \"SURPRISE MOTHERFUCKERS\"\n",
      "☆Bunini_Saii03♤ weird how im not even in that car and even i am scared of what's to come...booze wouldn't help me\n",
      "kongychamp bird box whO\n",
      "Loretts Anyone else confused by the start of this episode?\n",
      "FatLouise that car is waiting to create havoc or become havoc\n",
      "insomnia4 am I the only one who calls biseps Muscle Man\n",
      "mango•heart October 24 that’s two days after my birthday\n",
      "jimin•army•limelight i vote jisu for leader nobody asks and i doubt anyone cares but nerd dude can go suck my toe cuz he’s a butt\n",
      "Wisdom Koyn Mincey Ayyyye\n",
      "𝐃𝐨𝐨𝐝𝐞𝐭t𝐞♛ I’m thinking that Thomas The Tank Engine is gonna make a jumpscare, w/ his new n improved upgrade\n"
     ]
    }
   ],
   "source": [
    "    use = driver.find_elements_by_class_name('u_cbox_nick')\n",
    "    com = driver.find_elements_by_class_name('u_cbox_contents')\n",
    "    for u,c in zip(use,com):\n",
    "        print(u.text, c.text)"
   ]
  },
  {
   "cell_type": "code",
   "execution_count": 272,
   "metadata": {},
   "outputs": [],
   "source": [
    "i = driver.find_elements_by_class_name('u_cbox_num_page')\n",
    "i[2].click()"
   ]
  },
  {
   "cell_type": "code",
   "execution_count": 273,
   "metadata": {
    "scrolled": false
   },
   "outputs": [
    {
     "name": "stdout",
     "output_type": "stream",
     "text": [
      "Yuki.Maru The Lady who was cheered looked so cute tbh XD\n",
      "brob138 they forgot the tape on his glasses\n",
      "jell_bell I’m so ready to see what the outside world looks like\n",
      "m3b0-kun soon after leaving, scrub daddy lookin mf charges at their vehicle\n",
      "Abbie Storm You guys do realize that Yuri could die..\n",
      "gebbykurta aw my baby hyun :< ♡\n",
      "Cliché Jimin Stan \"The buttons on both sides of the steering wheel will activate the left and right flamethrowers\" that is the most badass thing I've read today\n",
      "amnosia hey I was thinking, shouldn't the stores have emergency epipens? or like daycares nearby or in a first aid kit? with how common allergies and such things are? the hospital is probably crawling with creatures and it's probably been looted some before those creatures made their home there.\n",
      "#Anime Life October 24th is my birthday\n",
      "Kathy Vallejo Yeah some actual color blue sky\n",
      "Punit shukal PRO.. ....TIEN\n",
      "Hikskun there is no need to keep bringing up the cold nature of glasses guy. the redundant conversations and dialogues are ruining any type of tension being built.\n",
      "Mercurywonders did I just saw a glance of murzz's hair bun?\n",
      "Blue Zab Star Star OCTOBER 24 IS MY BIRTHDAY\n",
      "Karina Skavinski NUUUU, the little children.... they probably look up to her! they don't want her to leeeeave.. it is so sad..\n"
     ]
    }
   ],
   "source": [
    "    use = driver.find_elements_by_class_name('u_cbox_nick')\n",
    "    com = driver.find_elements_by_class_name('u_cbox_contents')\n",
    "    for u,c in zip(use,com):\n",
    "        print(u.text, c.text)"
   ]
  },
  {
   "cell_type": "code",
   "execution_count": 275,
   "metadata": {},
   "outputs": [],
   "source": [
    "i = driver.find_elements_by_class_name('u_cbox_num_page')\n",
    "i[3].click()"
   ]
  },
  {
   "cell_type": "code",
   "execution_count": 276,
   "metadata": {
    "scrolled": false
   },
   "outputs": [
    {
     "name": "stdout",
     "output_type": "stream",
     "text": [
      "BLU3M00N On October 24th : They leave that place.On October 24th : It's my birthday(sorry If I've made any mistakes...I'm French)\n",
      "Mick Prince I'm laughing so hard... Wook really loves his woman... lol. Getting all worked up like that for Yuri... so adorable.\n",
      "funreads❣️ progress\n",
      "Fujoshi1024 Well, October 24 is my birthday! Don't die on my birthday guys! hahhahaa\n",
      "Carrot juice I’m literally having a heart attack, Why?\n",
      "Mid_NightFantasy now that i know that its still oct in the manga. i remember that oct is almost coming so im gonna turn 16 and that sucks. T-T\n",
      "A major weeb A smiling Hyun is always a gud Hyun. Also, what is it that Jisu wants Hyun to do when he comes back? I'm pretty sure that it might be something that could increase character development, their friendship, or maybe the ship that most of us want. I'm really excited to see what she asks of him after he comes back, #JisuN\n",
      "Miss mess the character development ... :') I'm touched\n",
      "٩( ᐛ )وClobob Oh my gosh, my birthday is October 24th;-;\n",
      "Daniel Mathews that is someone with a lot of conviction right there in so glad he has changed into a brave soul\n",
      "Lin-Sama *Thomas the Dank Engine joins chat*\n",
      "Nyka likes Cookies I’m just sitting imagining how bad that room must smell at this point.\n",
      "baxon October 24th is my bday lol\n",
      "CristinaMishi October 24th is my mom's birthday!!!\n",
      "R U B Y. \"COME BACK IN ONE PIECE\" AHHHHH YHE DOJQJFBWOFJQKDXKSLGBA\n"
     ]
    }
   ],
   "source": [
    "    use = driver.find_elements_by_class_name('u_cbox_nick')\n",
    "    com = driver.find_elements_by_class_name('u_cbox_contents')\n",
    "    for u,c in zip(use,com):\n",
    "        print(u.text, c.text)"
   ]
  },
  {
   "cell_type": "code",
   "execution_count": null,
   "metadata": {},
   "outputs": [],
   "source": []
  },
  {
   "cell_type": "code",
   "execution_count": null,
   "metadata": {},
   "outputs": [],
   "source": []
  },
  {
   "cell_type": "code",
   "execution_count": null,
   "metadata": {},
   "outputs": [],
   "source": []
  },
  {
   "cell_type": "code",
   "execution_count": 294,
   "metadata": {},
   "outputs": [
    {
     "ename": "NoSuchWindowException",
     "evalue": "Message: no such window: target window already closed\nfrom unknown error: web view not found\n  (Session info: chrome=76.0.3809.87)\n",
     "output_type": "error",
     "traceback": [
      "\u001b[0;31m---------------------------------------------------------------------------\u001b[0m",
      "\u001b[0;31mNoSuchWindowException\u001b[0m                     Traceback (most recent call last)",
      "\u001b[0;32m<ipython-input-294-ad0c9a213c39>\u001b[0m in \u001b[0;36m<module>\u001b[0;34m\u001b[0m\n\u001b[0;32m----> 1\u001b[0;31m \u001b[0mdriver\u001b[0m\u001b[0;34m.\u001b[0m\u001b[0mclose\u001b[0m\u001b[0;34m(\u001b[0m\u001b[0;34m)\u001b[0m\u001b[0;34m\u001b[0m\u001b[0;34m\u001b[0m\u001b[0m\n\u001b[0m",
      "\u001b[0;32m~/anaconda3/lib/python3.7/site-packages/selenium/webdriver/remote/webdriver.py\u001b[0m in \u001b[0;36mclose\u001b[0;34m(self)\u001b[0m\n\u001b[1;32m    686\u001b[0m             \u001b[0mdriver\u001b[0m\u001b[0;34m.\u001b[0m\u001b[0mclose\u001b[0m\u001b[0;34m(\u001b[0m\u001b[0;34m)\u001b[0m\u001b[0;34m\u001b[0m\u001b[0;34m\u001b[0m\u001b[0m\n\u001b[1;32m    687\u001b[0m         \"\"\"\n\u001b[0;32m--> 688\u001b[0;31m         \u001b[0mself\u001b[0m\u001b[0;34m.\u001b[0m\u001b[0mexecute\u001b[0m\u001b[0;34m(\u001b[0m\u001b[0mCommand\u001b[0m\u001b[0;34m.\u001b[0m\u001b[0mCLOSE\u001b[0m\u001b[0;34m)\u001b[0m\u001b[0;34m\u001b[0m\u001b[0;34m\u001b[0m\u001b[0m\n\u001b[0m\u001b[1;32m    689\u001b[0m \u001b[0;34m\u001b[0m\u001b[0m\n\u001b[1;32m    690\u001b[0m     \u001b[0;32mdef\u001b[0m \u001b[0mquit\u001b[0m\u001b[0;34m(\u001b[0m\u001b[0mself\u001b[0m\u001b[0;34m)\u001b[0m\u001b[0;34m:\u001b[0m\u001b[0;34m\u001b[0m\u001b[0;34m\u001b[0m\u001b[0m\n",
      "\u001b[0;32m~/anaconda3/lib/python3.7/site-packages/selenium/webdriver/remote/webdriver.py\u001b[0m in \u001b[0;36mexecute\u001b[0;34m(self, driver_command, params)\u001b[0m\n\u001b[1;32m    319\u001b[0m         \u001b[0mresponse\u001b[0m \u001b[0;34m=\u001b[0m \u001b[0mself\u001b[0m\u001b[0;34m.\u001b[0m\u001b[0mcommand_executor\u001b[0m\u001b[0;34m.\u001b[0m\u001b[0mexecute\u001b[0m\u001b[0;34m(\u001b[0m\u001b[0mdriver_command\u001b[0m\u001b[0;34m,\u001b[0m \u001b[0mparams\u001b[0m\u001b[0;34m)\u001b[0m\u001b[0;34m\u001b[0m\u001b[0;34m\u001b[0m\u001b[0m\n\u001b[1;32m    320\u001b[0m         \u001b[0;32mif\u001b[0m \u001b[0mresponse\u001b[0m\u001b[0;34m:\u001b[0m\u001b[0;34m\u001b[0m\u001b[0;34m\u001b[0m\u001b[0m\n\u001b[0;32m--> 321\u001b[0;31m             \u001b[0mself\u001b[0m\u001b[0;34m.\u001b[0m\u001b[0merror_handler\u001b[0m\u001b[0;34m.\u001b[0m\u001b[0mcheck_response\u001b[0m\u001b[0;34m(\u001b[0m\u001b[0mresponse\u001b[0m\u001b[0;34m)\u001b[0m\u001b[0;34m\u001b[0m\u001b[0;34m\u001b[0m\u001b[0m\n\u001b[0m\u001b[1;32m    322\u001b[0m             response['value'] = self._unwrap_value(\n\u001b[1;32m    323\u001b[0m                 response.get('value', None))\n",
      "\u001b[0;32m~/anaconda3/lib/python3.7/site-packages/selenium/webdriver/remote/errorhandler.py\u001b[0m in \u001b[0;36mcheck_response\u001b[0;34m(self, response)\u001b[0m\n\u001b[1;32m    240\u001b[0m                 \u001b[0malert_text\u001b[0m \u001b[0;34m=\u001b[0m \u001b[0mvalue\u001b[0m\u001b[0;34m[\u001b[0m\u001b[0;34m'alert'\u001b[0m\u001b[0;34m]\u001b[0m\u001b[0;34m.\u001b[0m\u001b[0mget\u001b[0m\u001b[0;34m(\u001b[0m\u001b[0;34m'text'\u001b[0m\u001b[0;34m)\u001b[0m\u001b[0;34m\u001b[0m\u001b[0;34m\u001b[0m\u001b[0m\n\u001b[1;32m    241\u001b[0m             \u001b[0;32mraise\u001b[0m \u001b[0mexception_class\u001b[0m\u001b[0;34m(\u001b[0m\u001b[0mmessage\u001b[0m\u001b[0;34m,\u001b[0m \u001b[0mscreen\u001b[0m\u001b[0;34m,\u001b[0m \u001b[0mstacktrace\u001b[0m\u001b[0;34m,\u001b[0m \u001b[0malert_text\u001b[0m\u001b[0;34m)\u001b[0m\u001b[0;34m\u001b[0m\u001b[0;34m\u001b[0m\u001b[0m\n\u001b[0;32m--> 242\u001b[0;31m         \u001b[0;32mraise\u001b[0m \u001b[0mexception_class\u001b[0m\u001b[0;34m(\u001b[0m\u001b[0mmessage\u001b[0m\u001b[0;34m,\u001b[0m \u001b[0mscreen\u001b[0m\u001b[0;34m,\u001b[0m \u001b[0mstacktrace\u001b[0m\u001b[0;34m)\u001b[0m\u001b[0;34m\u001b[0m\u001b[0;34m\u001b[0m\u001b[0m\n\u001b[0m\u001b[1;32m    243\u001b[0m \u001b[0;34m\u001b[0m\u001b[0m\n\u001b[1;32m    244\u001b[0m     \u001b[0;32mdef\u001b[0m \u001b[0m_value_or_default\u001b[0m\u001b[0;34m(\u001b[0m\u001b[0mself\u001b[0m\u001b[0;34m,\u001b[0m \u001b[0mobj\u001b[0m\u001b[0;34m,\u001b[0m \u001b[0mkey\u001b[0m\u001b[0;34m,\u001b[0m \u001b[0mdefault\u001b[0m\u001b[0;34m)\u001b[0m\u001b[0;34m:\u001b[0m\u001b[0;34m\u001b[0m\u001b[0;34m\u001b[0m\u001b[0m\n",
      "\u001b[0;31mNoSuchWindowException\u001b[0m: Message: no such window: target window already closed\nfrom unknown error: web view not found\n  (Session info: chrome=76.0.3809.87)\n"
     ]
    }
   ],
   "source": [
    "driver.close()"
   ]
  },
  {
   "cell_type": "code",
   "execution_count": null,
   "metadata": {},
   "outputs": [],
   "source": []
  }
 ],
 "metadata": {
  "kernelspec": {
   "display_name": "Python 3",
   "language": "python",
   "name": "python3"
  },
  "language_info": {
   "codemirror_mode": {
    "name": "ipython",
    "version": 3
   },
   "file_extension": ".py",
   "mimetype": "text/x-python",
   "name": "python",
   "nbconvert_exporter": "python",
   "pygments_lexer": "ipython3",
   "version": "3.7.1"
  }
 },
 "nbformat": 4,
 "nbformat_minor": 2
}
